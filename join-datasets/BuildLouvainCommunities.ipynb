{
 "cells": [
  {
   "cell_type": "markdown",
   "metadata": {},
   "source": [
    "# Build Louvain communities "
   ]
  },
  {
   "cell_type": "code",
   "execution_count": 1,
   "metadata": {},
   "outputs": [],
   "source": [
    "#load datasets\n",
    "import geopandas as gpd\n",
    "import pandas as pd\n",
    "from constants import loading_dict, temporal_buffer, ddataset_profile, ddisturbance_profile, DCLASS_SCORE, dtypes, doa, dsbuffer\n",
    "\n",
    "ddataset = {dataset_name : gpd.read_parquet(dataset_path) for dataset_name, dataset_path in loading_dict.items()}\n",
    "\n",
    "#preprocessing tcl:\n",
    "tcl = gpd.read_parquet('../data/processed_datasets/simplified_TreeCoverLoss_2001-2022_EPSG2154_FR.parquet')\n",
    "tcl['year'] = tcl['year'] + 2000\n",
    "tcl['class'] = None\n",
    "\n",
    "#preprocessing bdiff:\n",
    "\n",
    "ddataset['firepolygons']['class'] = 'Fire'\n",
    "#add end date with offset of 7 days \n",
    "ddataset['firepolygons']['end_date'] = pd.to_datetime(ddataset['firepolygons']['start_date']) + pd.to_timedelta(7, unit='d')\n",
    "\n",
    "ddataset['bdiff']['class'] = 'Fire'\n",
    "ddataset['bdiff'] = ddataset['bdiff'][ ddataset['bdiff'].forest_area_m2 > 5000 ]\n",
    "#filter bdiff geometry area < 100 1e6  m2\n",
    "ddataset['bdiff'] = ddataset['bdiff'][ ddataset['bdiff'].geometry.area <= 100e6 ]\n",
    "#same for cdi \n",
    "ddataset['cdi'] = ddataset['cdi'][ ddataset['cdi'].geometry.area <= 100e6 ]\n",
    "\n",
    "#create function that convert column 'start_date' to pd.datetime with the following format : '%Y-%m-%d', \n",
    "# if the 'start_date' is just mentionning the time and not the date, use the year column to create a start_date and end_date column as the first and last day of this year\n",
    "#create this function as 'to_datetime_safe', it takes as input a row of a dataframe\n",
    "def to_datetime_safe(row):\n",
    "    try :\n",
    "        return pd.to_datetime(row['start_date'], format='%Y-%m-%d'), pd.to_datetime(row['start_date'], format='%Y-%m-%d')\n",
    "    except ValueError:\n",
    "        return pd.to_datetime(row['year'], format='%Y'), pd.to_datetime(row['year'], format='%Y') + pd.offsets.YearEnd(0)\n",
    "\n",
    "\n",
    "ddataset['bdiff'][['start_date', 'end_date']] = ddataset['bdiff'].apply(to_datetime_safe, axis=1, result_type='expand')\n",
    "\n",
    "#autoreload \n",
    "from attribution2 import Attribution\n",
    "attribution = Attribution(ddataset, reference=tcl, doa=doa, dtypes=dtypes, \n",
    "                          temporal_buffer=temporal_buffer, dsbuffer=dsbuffer, \n",
    "                          dclass_score=DCLASS_SCORE, granularity=5, \n",
    "                          ddataset_profile=ddataset_profile, ddisturbance_profile=ddisturbance_profile, \n",
    "                          start_year=2017)\n",
    "\n",
    "filter_class = set()\n",
    "for dataset, dclass in DCLASS_SCORE.items():\n",
    "    for class_ in dclass:\n",
    "        if 'storm' in dclass[class_] or 'fire' in dclass[class_]:\n",
    "            filter_class.add(class_)"
   ]
  },
  {
   "cell_type": "code",
   "execution_count": 2,
   "metadata": {},
   "outputs": [
    {
     "name": "stdout",
     "output_type": "stream",
     "text": [
      "Building graph...\n"
     ]
    },
    {
     "name": "stderr",
     "output_type": "stream",
     "text": [
      "761388it [58:37, 216.46it/s]\n"
     ]
    },
    {
     "name": "stdout",
     "output_type": "stream",
     "text": [
      "graph not connected, new thresholds : 1200m, 720d\n"
     ]
    },
    {
     "name": "stderr",
     "output_type": "stream",
     "text": [
      "92093it [07:06, 215.91it/s]\n"
     ]
    },
    {
     "name": "stdout",
     "output_type": "stream",
     "text": [
      "graph not connected, new thresholds : 2400m, 1440d\n"
     ]
    },
    {
     "name": "stderr",
     "output_type": "stream",
     "text": [
      "19820it [01:52, 176.68it/s]\n"
     ]
    },
    {
     "name": "stdout",
     "output_type": "stream",
     "text": [
      "graph not connected, new thresholds : 4800m, 2880d\n"
     ]
    },
    {
     "name": "stderr",
     "output_type": "stream",
     "text": [
      "1289it [00:08, 148.23it/s]\n"
     ]
    },
    {
     "name": "stdout",
     "output_type": "stream",
     "text": [
      "graph not connected, new thresholds : 9600m, 5760d\n"
     ]
    },
    {
     "name": "stderr",
     "output_type": "stream",
     "text": [
      "31it [00:00, 100.47it/s]\n"
     ]
    },
    {
     "name": "stdout",
     "output_type": "stream",
     "text": [
      "graph not connected, new thresholds : 19200m, 11520d\n"
     ]
    },
    {
     "name": "stderr",
     "output_type": "stream",
     "text": [
      "2it [00:00, 83.36it/s]\n"
     ]
    },
    {
     "name": "stdout",
     "output_type": "stream",
     "text": [
      "graph not connected, new thresholds : 38400m, 23040d\n"
     ]
    }
   ],
   "source": [
    "temporal_threshold = 180 * 2\n",
    "spatial_threshold = 600\n",
    "spatial_threshold_ = spatial_threshold\n",
    "temporal_threshold_ = temporal_threshold\n",
    "\n",
    "dataset = attribution.dataset[['geometry', 'dataset', 'class', 'centroid_date', 'essence', 'tree_type']]\n",
    "dataset.fillna('Unknown', inplace=True)\n",
    "sindex = dataset.sindex\n",
    "if attribution.spatial_entity_dataset is not None:\n",
    "    spatial_entity_dataset = attribution.spatial_entity_dataset[['geometry', 'centroid_date', 'essence', 'tree_type']]\n",
    "    spatial_entity_dataset.fillna('Unknown', inplace=True)\n",
    "\n",
    "    spatial_entity_sindex = spatial_entity_dataset.sindex\n",
    "else :\n",
    "    spatial_entity_dataset = None\n",
    "    spatial_entity_sindex = None\n",
    "dim = 2\n",
    "\n",
    "import networkx as nx\n",
    "from utils import build_graph\n",
    "print('Building graph...')\n",
    "G = nx.Graph()\n",
    "dataset_loc = dataset\n",
    "#while graph not connected build graph by doubling thresholds\n",
    "N = 3\n",
    "i = 0\n",
    "#load graph if it exists\n",
    "import os \n",
    "# if os.path.isfile(f\"../data/results/graph/graph_d{dim}_g{attribution.granularity}_{spatial_threshold_}_{temporal_threshold_}_{attribution.version}.gml\"):\n",
    "#     G = nx.read_gml(f\"../data/results/graph/graph_d{dim}_g{attribution.granularity}_{spatial_threshold_}_{temporal_threshold_}_{attribution.version}.gml\")\n",
    "#     print('graph loaded')\n",
    "# else :\n",
    "while (len(G) == 0 or not nx.is_connected(G)) and (i < N or len(dataset_loc) > 0):\n",
    "    G = build_graph(dataset_loc, dataset, sindex, spatial_threshold, temporal_threshold, attribution, filter_class, G=G)\n",
    "    spatial_threshold *= 2\n",
    "    temporal_threshold *= 2\n",
    "    print(f'graph not connected, new thresholds : {spatial_threshold}m, {temporal_threshold}d')\n",
    "    #set d as the dataset with the events not in the graph\n",
    "    dataset_loc = dataset[~dataset.index.isin(G.nodes())]\n",
    "    i += 1\n",
    "\n",
    "nx.write_gml(G, f\"../data/results/graph/graph_d{dim}_g{attribution.granularity}_{spatial_threshold_}_{temporal_threshold_}_{attribution.version}.gml\")\n"
   ]
  },
  {
   "cell_type": "code",
   "execution_count": 3,
   "metadata": {},
   "outputs": [
    {
     "name": "stdout",
     "output_type": "stream",
     "text": [
      "Building islands with resolution 100...\n"
     ]
    },
    {
     "name": "stderr",
     "output_type": "stream",
     "text": [
      "100%|██████████| 30496/30496 [00:59<00:00, 508.43it/s]\n",
      "30496it [00:05, 5104.58it/s]\n"
     ]
    },
    {
     "ename": "AttributeError",
     "evalue": "'NoneType' object has no attribute 'shape'",
     "output_type": "error",
     "traceback": [
      "\u001b[0;31m---------------------------------------------------------------------------\u001b[0m",
      "\u001b[0;31mAttributeError\u001b[0m                            Traceback (most recent call last)",
      "Cell \u001b[0;32mIn[3], line 85\u001b[0m\n\u001b[1;32m     82\u001b[0m all_clusters_gdf \u001b[38;5;241m=\u001b[39m gpd\u001b[38;5;241m.\u001b[39mGeoDataFrame(pd\u001b[38;5;241m.\u001b[39mconcat(modified_gdfs), geometry\u001b[38;5;241m=\u001b[39m\u001b[38;5;124m'\u001b[39m\u001b[38;5;124mgeometry\u001b[39m\u001b[38;5;124m'\u001b[39m)\u001b[38;5;241m.\u001b[39mdrop(columns\u001b[38;5;241m=\u001b[39m[\u001b[38;5;124m'\u001b[39m\u001b[38;5;124myear\u001b[39m\u001b[38;5;124m'\u001b[39m])\n\u001b[1;32m     84\u001b[0m \u001b[38;5;66;03m# Save to GeoParquet\u001b[39;00m\n\u001b[0;32m---> 85\u001b[0m c \u001b[38;5;241m=\u001b[39m all_clusters_gdf\u001b[38;5;241m.\u001b[39mshape[\u001b[38;5;241m0\u001b[39m] \u001b[38;5;241m/\u001b[39m (\u001b[43mspatial_entity_dataset\u001b[49m\u001b[38;5;241;43m.\u001b[39;49m\u001b[43mshape\u001b[49m[\u001b[38;5;241m0\u001b[39m] \u001b[38;5;241m+\u001b[39m dataset\u001b[38;5;241m.\u001b[39mshape[\u001b[38;5;241m0\u001b[39m] )\n\u001b[1;32m     86\u001b[0m all_clusters_gdf\u001b[38;5;241m.\u001b[39mto_parquet(\u001b[38;5;124mf\u001b[39m\u001b[38;5;124m\"\u001b[39m\u001b[38;5;124m../data/results/clusters/communities_d\u001b[39m\u001b[38;5;132;01m{\u001b[39;00mdim\u001b[38;5;132;01m}\u001b[39;00m\u001b[38;5;124m_r\u001b[39m\u001b[38;5;132;01m{\u001b[39;00mresolution\u001b[38;5;132;01m}\u001b[39;00m\u001b[38;5;124m_g\u001b[39m\u001b[38;5;132;01m{\u001b[39;00mattribution\u001b[38;5;241m.\u001b[39mgranularity\u001b[38;5;132;01m}\u001b[39;00m\u001b[38;5;124m_\u001b[39m\u001b[38;5;132;01m{\u001b[39;00mspatial_threshold_\u001b[38;5;132;01m}\u001b[39;00m\u001b[38;5;124mm_\u001b[39m\u001b[38;5;132;01m{\u001b[39;00mtemporal_threshold_\u001b[38;5;132;01m}\u001b[39;00m\u001b[38;5;124md_v\u001b[39m\u001b[38;5;132;01m{\u001b[39;00mattribution\u001b[38;5;241m.\u001b[39mversion\u001b[38;5;132;01m}\u001b[39;00m\u001b[38;5;124m.parquet\u001b[39m\u001b[38;5;124m\"\u001b[39m)\n\u001b[1;32m     88\u001b[0m \u001b[38;5;28mprint\u001b[39m(\u001b[38;5;124mf\u001b[39m\u001b[38;5;124m'\u001b[39m\u001b[38;5;124mconversion rate : \u001b[39m\u001b[38;5;132;01m{\u001b[39;00mc\u001b[38;5;250m \u001b[39m\u001b[38;5;132;01m:\u001b[39;00m\u001b[38;5;124m.2%\u001b[39m\u001b[38;5;132;01m}\u001b[39;00m\u001b[38;5;124m'\u001b[39m)\n",
      "\u001b[0;31mAttributeError\u001b[0m: 'NoneType' object has no attribute 'shape'"
     ]
    }
   ],
   "source": [
    "import numpy as np \n",
    "from tqdm import tqdm \n",
    "from utils import get_temporal_range\n",
    "mode = 'equal'\n",
    "resolution = 100\n",
    "# WEIGHTS_ECO = list({'ws': 2, 'wt': 1.5, 'we': 1, 'wc': 2}.values())\n",
    "# WEIGHTS_PCA = list({'ws': 0.40759976, 'wt': 0.23017731, 'we': 0.20566699, 'wc': 0.15655594}.values())\n",
    "\n",
    "# #add one attribute to all edges\n",
    "# for u, v, d in G.edges(data=True):\n",
    "#     if dim == 4:\n",
    "#         lweights = [d['ws'], d['wt'], d['we'], d['wc']]\n",
    "#     elif dim == 2:\n",
    "#         lweights = [d['ws'], d['wt']]\n",
    "#     if mode == 'equal':\n",
    "#         d['weight'] = np.mean(lweights)\n",
    "#     elif mode == 'PCA':\n",
    "#         d['weight'] = np.average(lweights, weights=WEIGHTS_PCA[:dim])\n",
    "#     elif mode == 'eco':\n",
    "#         d['weight'] = np.average(lweights, weights=WEIGHTS_ECO[:dim])\n",
    "\n",
    "communities = nx.community.louvain_communities(G, seed=0, resolution=resolution)\n",
    "\n",
    "from datetime import timedelta\n",
    "dt = timedelta(days=temporal_threshold_)\n",
    "# Create a list to store the sub-GeoDataFrames\n",
    "island_gdfs = []\n",
    "\n",
    "print(f'Building islands with resolution {resolution}...')\n",
    "# Iterate over each island and create a sub-GeoDataFrame\n",
    "for island in tqdm(communities):\n",
    "    # Select rows from the original GeoDataFrame that correspond to the current island\n",
    "    island_gdf = attribution.dataset.iloc[list(island)]\n",
    "    \n",
    "    # Append this sub-GeoDataFrame to the list\n",
    "    island_gdfs.append(island_gdf)\n",
    "\n",
    "if spatial_entity_dataset is not None:\n",
    "    for i, island_gdf in tqdm(enumerate(island_gdfs)):\n",
    "        # Calculate the envelope (bounding box) of the cluster\n",
    "        envelope = island_gdf.unary_union.envelope\n",
    "        # geo = island_gdf.geometry.unary_union.centroid.buffer(np.sqrt(island_gdf.geometry.unary_union.convex_hull.area / np.pi))\n",
    "        # Calculate the temporal range of the cluster\n",
    "        cluster_start, cluster_end = get_temporal_range(island_gdf)\n",
    "\n",
    "        # Find potential matches using spatial index\n",
    "        possible_matches_index = list(spatial_entity_sindex.intersection(envelope.bounds))\n",
    "        possible_matches = spatial_entity_dataset.iloc[possible_matches_index]\n",
    "\n",
    "        # Initialize an empty list to store events to be added\n",
    "        events_to_add = []\n",
    "        # Iterate through each potential match\n",
    "        for event in possible_matches.itertuples(index=True):\n",
    "            # Check spatial intersection\n",
    "            spatial_condition = envelope.intersects(event.geometry)\n",
    "            # Check temporal intersection\n",
    "            event_centroid_date = event.centroid_date  # Replace with your actual column name\n",
    "            temporal_condition = ((event_centroid_date <= cluster_end + dt) and (event_centroid_date >= cluster_start - dt))\n",
    "\n",
    "            # If both conditions are met, add the event to the list\n",
    "            if spatial_condition and temporal_condition:\n",
    "                #change geometry to a circle centered in the cluster centroid and with a radius of np.sqrt(cluster.bbbox_area / pi)\n",
    "                # if event.geometry.area > geo.area:\n",
    "                #     event = event._replace(geometry=geo)\n",
    "                events_to_add.append(event.Index)\n",
    "\n",
    "        # Add the events to the cluster GeoDataFrame\n",
    "        if len(events_to_add) > 0:\n",
    "            # print(f'Adding {len(events_to_add)} events to cluster {i}...')\n",
    "            additional_events = attribution.spatial_entity_dataset.loc[events_to_add]\n",
    "            island_gdfs[i] = gpd.GeoDataFrame(pd.concat([island_gdf, additional_events]), geometry='geometry', crs=island_gdf.crs)\n",
    "\n",
    "# Initialize an empty list to store the modified cluster GeoDataFrames          \n",
    "modified_gdfs = []\n",
    "# Add a 'cluster' column and concatenate\n",
    "for i, island_gdf in tqdm(enumerate(island_gdfs)):\n",
    "    island_gdf['cluster'] = i  # Add a 'cluster' column with the cluster index\n",
    "    modified_gdfs.append(island_gdf)\n",
    "\n",
    "\n",
    "# Ensure the GeoDataFrame has the correct geometry set\n",
    "all_clusters_gdf = gpd.GeoDataFrame(pd.concat(modified_gdfs), geometry='geometry').drop(columns=['year'])\n",
    "\n",
    "# Save to GeoParquet\n",
    "h = spatial_entity_dataset.shape[0] if spatial_entity_dataset is not None else 0\n",
    "c = all_clusters_gdf.shape[0] / (h + dataset.shape[0] )\n",
    "all_clusters_gdf.to_parquet(f\"../data/results/clusters/communities_d{dim}_r{resolution}_g{attribution.granularity}_{spatial_threshold_}m_{temporal_threshold_}d_v{attribution.version}.parquet\")\n",
    "\n",
    "print(f'conversion rate : {c :.2%}')\n",
    "\n",
    "##metrics##\n",
    "island_sizes = all_clusters_gdf.cluster.value_counts().tolist()\n",
    "median = np.median(island_sizes)\n",
    "std = np.std(island_sizes)\n",
    "print(f'median : {median}, std : {std}')\n"
   ]
  },
  {
   "cell_type": "code",
   "execution_count": 6,
   "metadata": {},
   "outputs": [
    {
     "name": "stdout",
     "output_type": "stream",
     "text": [
      "median : 4.0, std : 53.27510517700238\n"
     ]
    },
    {
     "data": {
      "image/png": "[encoded data removed]",
      "text/plain": [
       "<Figure size 500x500 with 1 Axes>"
      ]
     },
     "metadata": {},
     "output_type": "display_data"
    }
   ],
   "source": [
    "resolution = 100\n",
    "# all_clusters_gdf = gpd.read_parquet(f\"../data/results/clusters/communities_d{dim}_r{resolution}_g{attribution.granularity}_{spatial_threshold_}m_{temporal_threshold_}d_v{attribution.version}.parquet\")\n",
    "\n",
    "##metrics##\n",
    "island_sizes = all_clusters_gdf.cluster.value_counts().tolist()\n",
    "median = np.median(island_sizes)\n",
    "std = np.std(island_sizes)\n",
    "print(f'median : {median}, std : {std}')\n",
    "\n",
    "\n",
    "import matplotlib.pyplot as plt\n",
    "# Plot the histogram\n",
    "fig, ax = plt.subplots(1,1, figsize=(5, 5))\n",
    "ax.hist(island_sizes, bins=100, color='blue', alpha=0.7, log=True)\n",
    "ax.set_title('Communities sizes')\n",
    "ax.set_xlabel('Size')\n",
    "ax.set_ylabel('Count')\n",
    "ax.spines['top'].set_visible(False)\n",
    "ax.spines['right'].set_visible(False)\n",
    "#horizontal grid\n",
    "ax.grid(axis='y', linestyle='--', alpha=0.7)\n",
    "fig.savefig(f'../figures/communities_d{dim}_r{resolution}_g{attribution.granularity}_{spatial_threshold_}m_{temporal_threshold_}d_v{attribution.version}.png', dpi=300)"
   ]
  }
 ],
 "metadata": {
  "kernelspec": {
   "display_name": "DiAtDaJo",
   "language": "python",
   "name": "python3"
  },
  "language_info": {
   "codemirror_mode": {
    "name": "ipython",
    "version": 3
   },
   "file_extension": ".py",
   "mimetype": "text/x-python",
   "name": "python",
   "nbconvert_exporter": "python",
   "pygments_lexer": "ipython3",
   "version": "3.9.6"
  }
 },
 "nbformat": 4,
 "nbformat_minor": 2
}
