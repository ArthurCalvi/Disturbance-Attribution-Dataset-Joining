{
 "cells": [
  {
   "cell_type": "markdown",
   "metadata": {},
   "source": [
    "# Build Louvain communities "
   ]
  },
  {
   "cell_type": "code",
   "execution_count": 1,
   "metadata": {},
   "outputs": [
    {
     "name": "stdout",
     "output_type": "stream",
     "text": [
      "dataset dfde is of spatial entity type\n",
      "-> 95% of the areas are below : 4391.95 km2, median : 71.66 km2\n",
      "dataset bdiff is of spatial entity type\n",
      "-> 95% of the areas are below : 127.49 km2, median : 27.37 km2\n",
      "dataset cdi is of spatial entity type\n",
      "-> 95% of the areas are below : 124.78 km2, median : 24.99 km2\n"
     ]
    }
   ],
   "source": [
    "#load datasets\n",
    "import geopandas as gpd\n",
    "import pandas as pd\n",
    "from constants import loading_dict, temporal_buffer, ddataset_profile, ddisturbance_profile, DCLASS_SCORE, dtypes, doa, dsbuffer\n",
    "\n",
    "ddataset = {dataset_name : gpd.read_parquet(dataset_path) for dataset_name, dataset_path in loading_dict.items()}\n",
    "\n",
    "#preprocessing tcl:\n",
    "tcl = gpd.read_parquet('../data/processed_datasets/simplified_TreeCoverLoss_2001-2022_EPSG2154_FR.parquet')\n",
    "tcl['year'] = tcl['year'] + 2000\n",
    "tcl['class'] = None\n",
    "\n",
    "#preprocessing bdiff:\n",
    "\n",
    "ddataset['firepolygons']['class'] = 'Fire'\n",
    "#add end date with offset of 7 days \n",
    "ddataset['firepolygons']['end_date'] = pd.to_datetime(ddataset['firepolygons']['start_date']) + pd.to_timedelta(7, unit='d')\n",
    "\n",
    "ddataset['bdiff']['class'] = 'Fire'\n",
    "ddataset['bdiff'] = ddataset['bdiff'][ ddataset['bdiff'].forest_area_m2 > 5000 ]\n",
    "#create function that convert column 'start_date' to pd.datetime with the following format : '%Y-%m-%d', \n",
    "# if the 'start_date' is just mentionning the time and not the date, use the year column to create a start_date and end_date column as the first and last day of this year\n",
    "#create this function as 'to_datetime_safe', it takes as input a row of a dataframe\n",
    "def to_datetime_safe(row):\n",
    "    try :\n",
    "        return pd.to_datetime(row['start_date'], format='%Y-%m-%d'), pd.to_datetime(row['start_date'], format='%Y-%m-%d')\n",
    "    except ValueError:\n",
    "        return pd.to_datetime(row['year'], format='%Y'), pd.to_datetime(row['year'], format='%Y') + pd.offsets.YearEnd(0)\n",
    "\n",
    "\n",
    "ddataset['bdiff'][['start_date', 'end_date']] = ddataset['bdiff'].apply(to_datetime_safe, axis=1, result_type='expand')\n",
    "\n",
    "#autoreload \n",
    "from attribution2 import Attribution\n",
    "attribution = Attribution(ddataset, reference=tcl, doa=doa, dtypes=dtypes, \n",
    "                          temporal_buffer=temporal_buffer, dsbuffer=dsbuffer, \n",
    "                          dclass_score=DCLASS_SCORE, granularity=5, \n",
    "                          ddataset_profile=ddataset_profile, ddisturbance_profile=ddisturbance_profile, \n",
    "                          start_year=2017)\n",
    "\n",
    "filter_class = set()\n",
    "for dataset, dclass in DCLASS_SCORE.items():\n",
    "    for class_ in dclass:\n",
    "        if 'storm' in dclass[class_] or 'fire' in dclass[class_]:\n",
    "            filter_class.add(class_)"
   ]
  },
  {
   "cell_type": "code",
   "execution_count": 2,
   "metadata": {},
   "outputs": [
    {
     "name": "stdout",
     "output_type": "stream",
     "text": [
      "Building graph...\n"
     ]
    },
    {
     "name": "stderr",
     "output_type": "stream",
     "text": [
      "757626it [54:22, 232.23it/s]\n"
     ]
    },
    {
     "name": "stdout",
     "output_type": "stream",
     "text": [
      "graph not connected, new thresholds : 1200m, 720d\n"
     ]
    },
    {
     "name": "stderr",
     "output_type": "stream",
     "text": [
      "101778it [06:21, 266.89it/s]\n"
     ]
    },
    {
     "name": "stdout",
     "output_type": "stream",
     "text": [
      "graph not connected, new thresholds : 2400m, 1440d\n"
     ]
    },
    {
     "name": "stderr",
     "output_type": "stream",
     "text": [
      "22898it [02:04, 184.02it/s]\n"
     ]
    },
    {
     "name": "stdout",
     "output_type": "stream",
     "text": [
      "graph not connected, new thresholds : 4800m, 2880d\n"
     ]
    },
    {
     "name": "stderr",
     "output_type": "stream",
     "text": [
      "1589it [00:10, 146.77it/s]\n"
     ]
    },
    {
     "name": "stdout",
     "output_type": "stream",
     "text": [
      "graph not connected, new thresholds : 9600m, 5760d\n"
     ]
    },
    {
     "name": "stderr",
     "output_type": "stream",
     "text": [
      "45it [00:00, 98.29it/s] \n"
     ]
    },
    {
     "name": "stdout",
     "output_type": "stream",
     "text": [
      "graph not connected, new thresholds : 19200m, 11520d\n"
     ]
    },
    {
     "name": "stderr",
     "output_type": "stream",
     "text": [
      "3it [00:00, 101.43it/s]\n"
     ]
    },
    {
     "name": "stdout",
     "output_type": "stream",
     "text": [
      "graph not connected, new thresholds : 38400m, 23040d\n"
     ]
    }
   ],
   "source": [
    "temporal_threshold = 180 * 2\n",
    "spatial_threshold = 600\n",
    "spatial_threshold_ = spatial_threshold\n",
    "temporal_threshold_ = temporal_threshold\n",
    "\n",
    "dataset = attribution.dataset[['geometry', 'dataset', 'class', 'centroid_date', 'essence', 'tree_type']]\n",
    "dataset.fillna('Unknown', inplace=True)\n",
    "spatial_entity_dataset = attribution.spatial_entity_dataset[['geometry', 'centroid_date', 'essence', 'tree_type']]\n",
    "spatial_entity_dataset.fillna('Unknown', inplace=True)\n",
    "sindex = dataset.sindex\n",
    "spatial_entity_sindex = spatial_entity_dataset.sindex\n",
    "dim = 2\n",
    "\n",
    "import networkx as nx\n",
    "from utils import build_graph\n",
    "print('Building graph...')\n",
    "G = nx.Graph()\n",
    "dataset_loc = dataset\n",
    "#while graph not connected build graph by doubling thresholds\n",
    "N = 3\n",
    "i = 0\n",
    "while (len(G) == 0 or not nx.is_connected(G)) and (i < N or len(dataset_loc) > 0):\n",
    "    G = build_graph(dataset_loc, dataset, sindex, spatial_threshold, temporal_threshold, attribution, filter_class, G=G)\n",
    "    spatial_threshold *= 2\n",
    "    temporal_threshold *= 2\n",
    "    print(f'graph not connected, new thresholds : {spatial_threshold}m, {temporal_threshold}d')\n",
    "    #set d as the dataset with the events not in the graph\n",
    "    dataset_loc = dataset[~dataset.index.isin(G.nodes())]\n",
    "    i += 1\n",
    "\n",
    "nx.write_gml(G, f\"../data/results/graph/graph_d{dim}_g{attribution.granularity}_{spatial_threshold_}_{temporal_threshold_}_{attribution.version}.gml\")\n"
   ]
  },
  {
   "cell_type": "code",
   "execution_count": 4,
   "metadata": {},
   "outputs": [
    {
     "name": "stdout",
     "output_type": "stream",
     "text": [
      "Building islands with resolution 50...\n"
     ]
    },
    {
     "name": "stderr",
     "output_type": "stream",
     "text": [
      "100%|██████████| 32117/32117 [01:25<00:00, 376.03it/s]\n",
      "4it [00:00, 60.32it/s]\n",
      "32117it [00:08, 3620.25it/s]\n"
     ]
    },
    {
     "name": "stdout",
     "output_type": "stream",
     "text": [
      "conversion rate : 99.45%\n",
      "median : 4.0, std : 47.931021346148704\n"
     ]
    },
    {
     "data": {
      "image/png": "[encoded data removed]",
      "text/plain": [
       "<Figure size 600x600 with 1 Axes>"
      ]
     },
     "metadata": {},
     "output_type": "display_data"
    }
   ],
   "source": [
    "import numpy as np \n",
    "from tqdm import tqdm \n",
    "from utils import get_temporal_range\n",
    "mode = 'equal'\n",
    "resolution = 100\n",
    "# WEIGHTS_ECO = list({'ws': 2, 'wt': 1.5, 'we': 1, 'wc': 2}.values())\n",
    "# WEIGHTS_PCA = list({'ws': 0.40759976, 'wt': 0.23017731, 'we': 0.20566699, 'wc': 0.15655594}.values())\n",
    "\n",
    "# #add one attribute to all edges\n",
    "# for u, v, d in G.edges(data=True):\n",
    "#     if dim == 4:\n",
    "#         lweights = [d['ws'], d['wt'], d['we'], d['wc']]\n",
    "#     elif dim == 2:\n",
    "#         lweights = [d['ws'], d['wt']]\n",
    "#     if mode == 'equal':\n",
    "#         d['weight'] = np.mean(lweights)\n",
    "#     elif mode == 'PCA':\n",
    "#         d['weight'] = np.average(lweights, weights=WEIGHTS_PCA[:dim])\n",
    "#     elif mode == 'eco':\n",
    "#         d['weight'] = np.average(lweights, weights=WEIGHTS_ECO[:dim])\n",
    "\n",
    "communities = nx.community.louvain_communities(G, seed=0, resolution=resolution)\n",
    "\n",
    "# Create a list to store the sub-GeoDataFrames\n",
    "island_gdfs = []\n",
    "\n",
    "print(f'Building islands with resolution {resolution}...')\n",
    "# Iterate over each island and create a sub-GeoDataFrame\n",
    "for island in tqdm(communities):\n",
    "    # Select rows from the original GeoDataFrame that correspond to the current island\n",
    "    island_gdf = attribution.dataset.iloc[list(island)]\n",
    "    \n",
    "    # Append this sub-GeoDataFrame to the list\n",
    "    island_gdfs.append(island_gdf)\n",
    "\n",
    "for i, island_gdf in tqdm(enumerate(island_gdfs)):\n",
    "    # Calculate the envelope (bounding box) of the cluster\n",
    "    envelope = island_gdf.unary_union.envelope\n",
    "\n",
    "    # Calculate the temporal range of the cluster\n",
    "    cluster_start, cluster_end = get_temporal_range(island_gdf)\n",
    "\n",
    "    # Find potential matches using spatial index\n",
    "    possible_matches_index = list(spatial_entity_sindex.intersection(envelope.bounds))\n",
    "    possible_matches = spatial_entity_dataset.iloc[possible_matches_index]\n",
    "\n",
    "    if len(possible_matches_index) > 0 :\n",
    "        break\n",
    "    # Initialize an empty list to store events to be added\n",
    "    events_to_add = []\n",
    "\n",
    "    # Iterate through each potential match\n",
    "    for event in possible_matches.itertuples(index=True):\n",
    "        # Check spatial intersection\n",
    "        spatial_condition = envelope.intersects(event.geometry)\n",
    "        # Check temporal intersection\n",
    "        event_start = event.start_date  # Replace with your actual column name\n",
    "        event_end = event.end_date\n",
    "        temporal_condition = ((event_start <= cluster_end + temporal_threshold_) and (event_end >= cluster_end - temporal_threshold_)) or ((event_start <= cluster_start + temporal_threshold_) and (event_end >= cluster_start - temporal_threshold_)) \n",
    "\n",
    "        # If both conditions are met, add the event to the list\n",
    "        if spatial_condition and temporal_condition:\n",
    "            events_to_add.append(event.Index)\n",
    "\n",
    "    # Add the events to the cluster GeoDataFrame\n",
    "    if len(events_to_add) > 0:\n",
    "        additional_events = attribution.spatial_entity_dataset.loc[events_to_add]\n",
    "        island_gdfs[i] = gpd.GeoDataFrame(pd.concat([island_gdf, additional_events]), geometry='geometry', crs=island_gdf.crs)\n",
    "\n",
    "# Initialize an empty list to store the modified cluster GeoDataFrames          \n",
    "modified_gdfs = []\n",
    "\n",
    "# Add a 'cluster' column and concatenate\n",
    "for i, island_gdf in tqdm(enumerate(island_gdfs)):\n",
    "    island_gdf['cluster'] = i  # Add a 'cluster' column with the cluster index\n",
    "    modified_gdfs.append(island_gdf)\n",
    "\n",
    "\n",
    "# Ensure the GeoDataFrame has the correct geometry set\n",
    "all_clusters_gdf = gpd.GeoDataFrame(pd.concat(modified_gdfs), geometry='geometry').drop(columns=['year'])\n",
    "\n",
    "# Save to GeoParquet\n",
    "c = all_clusters_gdf.shape[0] / (spatial_entity_dataset.shape[0] + dataset.shape[0] )\n",
    "all_clusters_gdf.to_parquet(f\"../data/results/clusters/communities_d{dim}_r{resolution}_g{attribution.granularity}_{spatial_threshold_}m_{temporal_threshold_}d_v{attribution.version}.parquet\")\n",
    "\n",
    "print(f'conversion rate : {c :.2%}')\n",
    "\n",
    "##metrics##\n",
    "island_sizes = all_clusters_gdf.cluster.value_counts().tolist()\n",
    "median = np.median(island_sizes)\n",
    "std = np.std(island_sizes)\n",
    "print(f'median : {median}, std : {std}')\n"
   ]
  },
  {
   "cell_type": "code",
   "execution_count": 11,
   "metadata": {},
   "outputs": [
    {
     "name": "stdout",
     "output_type": "stream",
     "text": [
      "median : 4.0, std : 39.092321139365914\n"
     ]
    },
    {
     "data": {
      "image/png": "[encoded data removed]",
      "text/plain": [
       "<Figure size 500x500 with 1 Axes>"
      ]
     },
     "metadata": {},
     "output_type": "display_data"
    }
   ],
   "source": [
    "resolution = 100\n",
    "all_clusters_gdf = gpd.read_parquet(f\"../data/results/clusters/communities_d{dim}_r{resolution}_g{attribution.granularity}_{spatial_threshold_}m_{temporal_threshold_}d_v{attribution.version}.parquet\")\n",
    "\n",
    "##metrics##\n",
    "island_sizes = all_clusters_gdf.cluster.value_counts().tolist()\n",
    "median = np.median(island_sizes)\n",
    "std = np.std(island_sizes)\n",
    "print(f'median : {median}, std : {std}')\n",
    "\n",
    "\n",
    "import matplotlib.pyplot as plt\n",
    "# Plot the histogram\n",
    "fig, ax = plt.subplots(1,1, figsize=(5, 5))\n",
    "ax.hist(island_sizes, bins=100, color='blue', alpha=0.7, log=True)\n",
    "ax.set_title('Cluster sizes')\n",
    "ax.set_xlabel('Size')\n",
    "ax.set_ylabel('Count')\n",
    "ax.spines['top'].set_visible(False)\n",
    "ax.spines['right'].set_visible(False)\n",
    "#horizontal grid\n",
    "ax.grid(axis='y', linestyle='--', alpha=0.7)"
   ]
  },
  {
   "cell_type": "code",
   "execution_count": 8,
   "metadata": {},
   "outputs": [],
   "source": [
    "fig.savefig(f'../figures/communities_d{dim}_r{resolution}_g{attribution.granularity}_{spatial_threshold_}m_{temporal_threshold_}d_v{attribution.version}.png', dpi=300)"
   ]
  }
 ],
 "metadata": {
  "kernelspec": {
   "display_name": "DiAtDaJo",
   "language": "python",
   "name": "python3"
  },
  "language_info": {
   "codemirror_mode": {
    "name": "ipython",
    "version": 3
   },
   "file_extension": ".py",
   "mimetype": "text/x-python",
   "name": "python",
   "nbconvert_exporter": "python",
   "pygments_lexer": "ipython3",
   "version": "3.9.6"
  }
 },
 "nbformat": 4,
 "nbformat_minor": 2
}
