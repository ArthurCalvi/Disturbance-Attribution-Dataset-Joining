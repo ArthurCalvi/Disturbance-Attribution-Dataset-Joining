{
 "cells": [
  {
   "cell_type": "markdown",
   "metadata": {},
   "source": [
    "# Define clusters "
   ]
  },
  {
   "cell_type": "code",
   "execution_count": 1,
   "metadata": {},
   "outputs": [
    {
     "name": "stdout",
     "output_type": "stream",
     "text": [
      "dataset dfde is of spatial entity type\n",
      "-> 95% of the areas are below : 4391.95 km2, median : 71.66 km2\n",
      "dataset bdiff is of spatial entity type\n",
      "-> 95% of the areas are below : 127.49 km2, median : 27.37 km2\n",
      "dataset cdi is of spatial entity type\n",
      "-> 95% of the areas are below : 124.78 km2, median : 24.99 km2\n"
     ]
    }
   ],
   "source": [
    "#load datasets\n",
    "import geopandas as gpd\n",
    "import pandas as pd\n",
    "from constants import loading_dict, temporal_buffer, ddataset_profile, ddisturbance_profile, DCLASS_SCORE, dtypes, doa, dsbuffer\n",
    "\n",
    "ddataset = {dataset_name : gpd.read_parquet(dataset_path) for dataset_name, dataset_path in loading_dict.items()}\n",
    "\n",
    "#preprocessing tcl:\n",
    "tcl = gpd.read_parquet('../data/processed_datasets/simplified_TreeCoverLoss_2001-2022_EPSG2154_FR.parquet')\n",
    "tcl['year'] = tcl['year'] + 2000\n",
    "tcl['class'] = None\n",
    "\n",
    "#preprocessing bdiff:\n",
    "\n",
    "ddataset['firepolygons']['class'] = 'Fire'\n",
    "#add end date with offset of 7 days \n",
    "ddataset['firepolygons']['end_date'] = pd.to_datetime(ddataset['firepolygons']['start_date']) + pd.to_timedelta(7, unit='d')\n",
    "\n",
    "ddataset['bdiff']['class'] = 'Fire'\n",
    "ddataset['bdiff'] = ddataset['bdiff'][ ddataset['bdiff'].forest_area_m2 > 5000 ]\n",
    "#create function that convert column 'start_date' to pd.datetime with the following format : '%Y-%m-%d', \n",
    "# if the 'start_date' is just mentionning the time and not the date, use the year column to create a start_date and end_date column as the first and last day of this year\n",
    "#create this function as 'to_datetime_safe', it takes as input a row of a dataframe\n",
    "def to_datetime_safe(row):\n",
    "    try :\n",
    "        return pd.to_datetime(row['start_date'], format='%Y-%m-%d'), pd.to_datetime(row['start_date'], format='%Y-%m-%d')\n",
    "    except ValueError:\n",
    "        return pd.to_datetime(row['year'], format='%Y'), pd.to_datetime(row['year'], format='%Y') + pd.offsets.YearEnd(0)\n",
    "\n",
    "\n",
    "ddataset['bdiff'][['start_date', 'end_date']] = ddataset['bdiff'].apply(to_datetime_safe, axis=1, result_type='expand')\n",
    "\n",
    "#autoreload \n",
    "from attribution2 import Attribution\n",
    "attribution = Attribution(ddataset, reference=tcl, doa=doa, dtypes=dtypes, \n",
    "                          temporal_buffer=temporal_buffer, dsbuffer=dsbuffer, \n",
    "                          dclass_score=DCLASS_SCORE, granularity=5, \n",
    "                          ddataset_profile=ddataset_profile, ddisturbance_profile=ddisturbance_profile, \n",
    "                          start_year=2017)\n",
    "\n",
    "filter_class = set()\n",
    "for dataset, dclass in DCLASS_SCORE.items():\n",
    "    for class_ in dclass:\n",
    "        if 'storm' in dclass[class_] or 'fire' in dclass[class_]:\n",
    "            filter_class.add(class_)"
   ]
  },
  {
   "cell_type": "code",
   "execution_count": 2,
   "metadata": {},
   "outputs": [],
   "source": [
    "#load communities \n",
    "mode = 'equal'\n",
    "resolution = 100\n",
    "dim = 2\n",
    "temporal_threshold_ = 180 * 2\n",
    "spatial_threshold_  = 600\n",
    "\n",
    "all_clusters_gdf = gpd.read_parquet(f\"../data/results/clusters/communities_d{dim}_r{resolution}_g{attribution.granularity}_{spatial_threshold_}m_{temporal_threshold_}d_v{attribution.version}.parquet\")\n"
   ]
  },
  {
   "cell_type": "code",
   "execution_count": 3,
   "metadata": {},
   "outputs": [],
   "source": [
    "from utils import compute_spatial_distance_v2, compute_tree_coherence_v2, compute_class_similarity_v2\n",
    "weights = {\n",
    "    'equal' : [0.25, 0.25, 0.25, 0.25],\n",
    "    'PCA' : [0.23017731, 0.40759976, 0.20566699, 0.15655594],\n",
    "    'ECO' : [2, 2, 1, 3]\n",
    "}\n",
    "kwds = {\n",
    "    'DBSCAN': {'eps': 0.7, 'min_samples': 2},\n",
    "    'HDBSCAN': {'min_cluster_size': 2}\n",
    "}\n",
    "\n",
    "filter_class = set()\n",
    "for dataset, dclass in DCLASS_SCORE.items():\n",
    "    for class_ in dclass:\n",
    "        if 'storm' in dclass[class_] or 'fire' in dclass[class_]:\n",
    "            filter_class.add(class_)\n",
    "dcustom_similarity_function_v2 = {'spatial_distance': (compute_spatial_distance_v2, {'final_weighting_dict': attribution.final_weighting_dict}), \n",
    "                                  'tree_coherence': (compute_tree_coherence_v2, {'filter_cause': filter_class}), \n",
    "                                  'class_similarity': (compute_class_similarity_v2, {'dclass_score': DCLASS_SCORE})}"
   ]
  },
  {
   "cell_type": "code",
   "execution_count": 4,
   "metadata": {},
   "outputs": [],
   "source": [
    "mode = 'equal'\n",
    "method = 'HDBSCAN'"
   ]
  },
  {
   "cell_type": "code",
   "execution_count": 5,
   "metadata": {},
   "outputs": [
    {
     "name": "stdout",
     "output_type": "stream",
     "text": [
      "computing the four matrices for 34130 communities...\n"
     ]
    },
    {
     "name": "stderr",
     "output_type": "stream",
     "text": [
      "100%|██████████| 35/35 [27:29<00:00, 47.13s/it]\n"
     ]
    },
    {
     "name": "stdout",
     "output_type": "stream",
     "text": [
      "elapsed time : 1649.51s\n"
     ]
    },
    {
     "name": "stderr",
     "output_type": "stream",
     "text": [
      "100%|██████████| 35/35 [3:39:12<00:00, 375.78s/it]   \n"
     ]
    },
    {
     "name": "stdout",
     "output_type": "stream",
     "text": [
      "elapsed time : 14807.55s\n",
      "computing silhouette score...\n"
     ]
    }
   ],
   "source": [
    "from utils import get_cluster_v2, get_matrices_v2, build_similarity_v2\n",
    "import warnings\n",
    "import time\n",
    "from joblib import Parallel, delayed\n",
    "from itertools import islice\n",
    "from sklearn.metrics import silhouette_score\n",
    "from tqdm import tqdm\n",
    "from collections import defaultdict\n",
    "import os \n",
    "import numpy as np \n",
    "\n",
    "all_clusters_gdf_v2 = all_clusters_gdf.rename(columns={'class': 'cause'})\n",
    "\n",
    "\n",
    "groups = all_clusters_gdf_v2.groupby('cluster')\n",
    "std = np.std([len(g) for g in groups])\n",
    "median = np.median([len(g) for g in groups])\n",
    "\n",
    "#compute the foux matrices of similarities \n",
    "print(f'computing the four matrices for {len(groups)} communities...')\n",
    "start = time.time()\n",
    "list_matrices = []\n",
    "with warnings.catch_warnings():\n",
    "    \n",
    "    warnings.filterwarnings(\"ignore\", category=DeprecationWarning)\n",
    "    for i in tqdm(range(0, len(groups), 1000)):\n",
    "        r = Parallel(n_jobs=-1, prefer='processes', verbose=0)(delayed(get_matrices_v2)(data,  dtypes, dcustom_similarity_function_v2, attribution.final_weighting_dict) for _,data in islice(groups, i, min(len(groups), i+1000)))\n",
    "        list_matrices.extend(r)\n",
    "\n",
    "end = time.time()\n",
    "print(f'elapsed time : {end - start :.2f}s')\n",
    "\n",
    "weight = weights[mode]\n",
    "#building all the similiarty matrix\n",
    "matrices = Parallel(n_jobs=-1, prefer='threads', verbose=0)(delayed(build_similarity_v2)(m, weight) for m in list_matrices)\n",
    "\n",
    "#disturb time period and polygons \n",
    "list_gdf = []\n",
    "list_labels = []\n",
    "list_sim_matrices = []\n",
    "kwargs = kwds[method]\n",
    "for i in tqdm(range(0, len(groups), 1000)):\n",
    "    r = Parallel(n_jobs=-1, prefer='processes', verbose=0)(delayed(get_cluster_v2)(data, m, attribution.final_weighting_dict, attribution.doa, DCLASS_SCORE, method=method, method_kwargs=kwargs) for (_,data), m in zip(islice(groups, i, min(len(groups), i+1000)), islice(matrices, i, min(len(matrices), i+1000))))\n",
    "    for x in r:\n",
    "        list_gdf.append(x[0])\n",
    "        list_sim_matrices.append(x[1])\n",
    "        list_labels.append(x[2])\n",
    "end = time.time()\n",
    "print(f'elapsed time : {end - start :.2f}s')\n",
    "\n",
    "#save gdf\n",
    "df = pd.concat(list_gdf)\n",
    "gdf = gpd.GeoDataFrame(df, geometry='geometry', crs=attribution.dataset.crs)\n",
    "gdf.to_parquet(f\"../data/results/clusters/clusters_{method}_m{mode}_d{dim}_r{resolution}_g{attribution.granularity}_{spatial_threshold_}m_{temporal_threshold_}d_v{attribution.version}.parquet\")\n",
    "\n",
    "#SILHOUETTE SCORE\n",
    "print('computing silhouette score...')\n",
    "silhouette_scores = []\n",
    "for similarity_matrix, labels in zip(list_sim_matrices, list_labels):\n",
    "    # Ensure that labels have at least one cluster and less than n_samples clusters\n",
    "    if 1 < len(set(labels)) < len(labels):\n",
    "        # Convert similarity matrix to distance matrix if necessary\n",
    "        distance_matrix = 1 - similarity_matrix\n",
    "        \n",
    "        # Calculate the Davies-Bouldin Score\n",
    "        silhouette = silhouette_score(X=distance_matrix, labels=labels, metric='precomputed')\n",
    "        silhouette_scores.append(silhouette)\n",
    "\n",
    "\n",
    "#LABELSIZE\n",
    "#I want to know the size of each label in each l of list_labels\n",
    "label_size = [np.unique(l, return_counts=True)[1] for l in list_labels]\n",
    "#flatten the list\n",
    "label_size = [item for sublist in label_size for item in sublist]\n",
    "\n",
    "#count the number of label == -1 to know the noise level\n",
    "noise = sum([1 if -1 in l else 0 for l in list_labels]) / len(label_size)\n",
    "\n",
    "\n",
    "#label size without noise\n",
    "label_size = [np.unique([x for x in l if x!=-1], return_counts=True)[1] for l in list_labels]\n",
    "#flatten the list\n",
    "label_size = [item for sublist in label_size for item in sublist]\n",
    "\n"
   ]
  },
  {
   "cell_type": "code",
   "execution_count": 6,
   "metadata": {},
   "outputs": [
    {
     "data": {
      "text/plain": [
       "0.12174167724299521"
      ]
     },
     "execution_count": 6,
     "metadata": {},
     "output_type": "execute_result"
    }
   ],
   "source": [
    "noise"
   ]
  },
  {
   "cell_type": "code",
   "execution_count": 10,
   "metadata": {},
   "outputs": [
    {
     "data": {
      "image/png": "[encoded data removed]",
      "text/plain": [
       "<Figure size 800x400 with 2 Axes>"
      ]
     },
     "metadata": {},
     "output_type": "display_data"
    }
   ],
   "source": [
    "#display boxplot of silhouette score and label_size\n",
    "import matplotlib.pyplot as plt\n",
    "fig, ax = plt.subplots(1, 2, figsize=(8, 4))\n",
    "ax[0].boxplot(silhouette_scores)\n",
    "ax[0].set_title('silhouette score')\n",
    "ax[1].boxplot(label_size)\n",
    "ax[1].set_title('label size')\n",
    "\n",
    "for a in ax:\n",
    "    a.spines['top'].set_visible(False)\n",
    "    a.spines['right'].set_visible(False)\n",
    "    a.spines['bottom'].set_visible(False)\n",
    "    #horizontal grid\n",
    "    a.yaxis.grid(True, linestyle='--', which='major', color='grey', alpha=.25)"
   ]
  }
 ],
 "metadata": {
  "kernelspec": {
   "display_name": "DiAtDaJo",
   "language": "python",
   "name": "python3"
  },
  "language_info": {
   "codemirror_mode": {
    "name": "ipython",
    "version": 3
   },
   "file_extension": ".py",
   "mimetype": "text/x-python",
   "name": "python",
   "nbconvert_exporter": "python",
   "pygments_lexer": "ipython3",
   "version": "3.9.6"
  }
 },
 "nbformat": 4,
 "nbformat_minor": 2
}
