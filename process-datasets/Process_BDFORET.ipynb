{
 "cells": [
  {
   "cell_type": "markdown",
   "metadata": {},
   "source": [
    "Download links:\n",
    "- BDFORET V2 : https://geoservices.ign.fr/bdforet#telechargementv1\n",
    "- BDFORET V1 : https://geoservices.ign.fr/bdforet#telechargementv2\n",
    "\n",
    "# Method :\n",
    "\n",
    "1. Joining data at the national level (this need intersection sometimes)"
   ]
  },
  {
   "cell_type": "markdown",
   "metadata": {},
   "source": [
    "# BDFORET V2 "
   ]
  },
  {
   "cell_type": "markdown",
   "metadata": {},
   "source": [
    "## Unification"
   ]
  },
  {
   "cell_type": "code",
   "execution_count": null,
   "metadata": {},
   "outputs": [],
   "source": [
    "import geopandas as gpd\n",
    "\n",
    "list_bdforet = [gpd.read_parquet(f'/Users/arthurcalvi/Data/Disturbances_maps/BDF.parquet/part.{i}.parquet')for i in range(100)]\n",
    "print('loaded !')"
   ]
  },
  {
   "cell_type": "code",
   "execution_count": null,
   "metadata": {},
   "outputs": [],
   "source": [
    "import warnings\n",
    "import pandas as pd\n",
    "import random \n",
    "import dask_geopandas as dgpd\n",
    "warnings.filterwarnings(\"ignore\", category=FutureWarning)\n",
    "warnings.filterwarnings(\"ignore\", category=UserWarning)\n",
    "\n",
    "#join everyone \n",
    "from tqdm import tqdm \n",
    "\n",
    "join = list_bdforet[0]\n",
    "for i in tqdm(range(1, len(list_bdforet))):\n",
    "    joiner = list_bdforet[i]\n",
    "\n",
    "    selection_join = join.intersects(joiner)\n",
    "    selection_joiner = joiner.intersects(join)\n",
    "\n",
    "    do_join = join.loc[ selection_join ]\n",
    "    do_joiner = joiner.loc[ selection_joiner ]\n",
    "    joined = None\n",
    "    if len(do_join) > 0 and len(do_joiner) > 0:\n",
    "\n",
    "        dask_join = dgpd.from_geopandas(do_join, npartitions=10)\n",
    "        dask_joiner = dgpd.from_geopandas(do_joiner, npartitions=10)\n",
    "        joined = dgpd.sjoin(dask_join, dask_joiner).compute()\n",
    "        joined = joined[['ID_left', 'TFV_left', 'ESSENCE_left', 'ID_num_left', 'geometry']].rename(columns={'ID_left':'ID', 'TFV_left':'TFV', 'ESSENCE_left':'ESSENCE', 'ID_num_left':'ID_num'})\n",
    "\n",
    "    if joined is not None:\n",
    "        join = pd.concat([join.loc[~selection_join], joiner.loc[~selection_joiner], joined])\n",
    "    else :\n",
    "        join = pd.concat([join.loc[~selection_join], joiner.loc[~selection_joiner]])\n",
    "\n",
    "    join = gpd.GeoDataFrame(join, crs=join.crs).reset_index(drop=True)"
   ]
  },
  {
   "cell_type": "code",
   "execution_count": 1,
   "metadata": {},
   "outputs": [
    {
     "ename": "NameError",
     "evalue": "name 'join' is not defined",
     "output_type": "error",
     "traceback": [
      "\u001b[0;31m---------------------------------------------------------------------------\u001b[0m",
      "\u001b[0;31mNameError\u001b[0m                                 Traceback (most recent call last)",
      "\u001b[1;32m/Users/arthurcalvi/Repo/Disturbance-Attribution-Dataset-Joining/process-datasets/Process_BDFORET.ipynb Cell 5\u001b[0m line \u001b[0;36m1\n\u001b[0;32m----> <a href='vscode-notebook-cell:/Users/arthurcalvi/Repo/Disturbance-Attribution-Dataset-Joining/process-datasets/Process_BDFORET.ipynb#W4sZmlsZQ%3D%3D?line=0'>1</a>\u001b[0m join\u001b[39m.\u001b[39mgeometry \u001b[39m=\u001b[39m join\u001b[39m.\u001b[39mgeometry\u001b[39m.\u001b[39msimplify(\u001b[39m10\u001b[39m)\n",
      "\u001b[0;31mNameError\u001b[0m: name 'join' is not defined"
     ]
    }
   ],
   "source": [
    "join.geometry = join.geometry.simplify(10)\n",
    "join.to_parquet('../data/BDFORET_EPSG2154_FR_simplified10.parquet')"
   ]
  },
  {
   "cell_type": "markdown",
   "metadata": {},
   "source": [
    "## Cleaning"
   ]
  },
  {
   "cell_type": "code",
   "execution_count": 1,
   "metadata": {},
   "outputs": [],
   "source": [
    "import geopandas as gpd\n",
    "bdforet2 = gpd.read_parquet('../data/BDFORET_EPSG2154_FR_simplified10.parquet')"
   ]
  },
  {
   "cell_type": "code",
   "execution_count": 2,
   "metadata": {},
   "outputs": [],
   "source": [
    "import numpy as np\n",
    "# Define a function to classify based on keywords\n",
    "def classify_species(s:str):\n",
    "    if type(s) == str:\n",
    "        if 'conif' in s.lower():\n",
    "            return 'conifer'\n",
    "        elif 'feuill' in s.lower():\n",
    "            return 'broadleaf'\n",
    "        elif 'mixte' in s.lower():\n",
    "            return 'mixed'\n",
    "    \n",
    "    return np.NaN\n",
    "    \n",
    "bdforet2['tree_type'] = bdforet2['TFV_G11'].apply(classify_species) "
   ]
  },
  {
   "cell_type": "code",
   "execution_count": 3,
   "metadata": {},
   "outputs": [],
   "source": [
    "# Dictionary to hold translations\n",
    "translation_dict = {\n",
    "    'Pin maritime': 'Maritime Pine',\n",
    "    'NC': 'NC',  # Not clear what NC stands for\n",
    "    'Mixte': 'Mixed',\n",
    "    'Feuillus': 'Broadleaf',\n",
    "    'Pins mélangés': 'Mixed Pines',\n",
    "    'NR': 'NR',  # Not clear what NR stands for\n",
    "    'Conifères': 'Conifers',\n",
    "    'Sapin, épicéa': 'Fir, Spruce',\n",
    "    'Peuplier': 'Poplar',\n",
    "    'Douglas': 'Douglas',\n",
    "    'Pin sylvestre': 'Scots Pine',\n",
    "    'Châtaignier': 'Chestnut',\n",
    "    'Chênes décidus': 'Deciduous Oaks',\n",
    "    'Pin laricio, pin noir': 'Laricio Pine, Black Pine',\n",
    "    'Mélèze': 'Larch',\n",
    "    'Pin autre': 'Other Pine',\n",
    "    'Hêtre': 'Beech',\n",
    "    'Robinier': 'Black Locust',\n",
    "    'Ch�nes d�cidus': 'Deciduous Oaks',  # Encoding issue, assuming it's the same as 'Chênes décidus'\n",
    "    'Ch�nes sempervirents': 'Evergreen Oaks',  # Encoding issue, assuming it's the same as 'Chênes sempervirents'\n",
    "    'H�tre': 'Beech',  # Encoding issue, assuming it's the same as 'Hêtre'\n",
    "    'Conif�res': 'Conifers',  # Encoding issue, assuming it's the same as 'Conifères'\n",
    "    \"Pin d'Alep\": 'Aleppo Pine',\n",
    "    'Pin � crochets, pin cembro': 'Hooked Pine, Swiss Pine',  # Encoding issue, translated based on corrected text\n",
    "    'M�l�ze': 'Larch',  # Encoding issue, assuming it's the same as 'Mélèze'\n",
    "    'Pins m�lang�s': 'Mixed Pines',  # Encoding issue, assuming it's the same as 'Pins mélangés'\n",
    "    'Sapin, �pic�a': 'Fir, Spruce',  # Encoding issue, assuming it's the same as 'Sapin, épicéa'\n",
    "    'Ch�taignier': 'Chestnut',  # Encoding issue, assuming it's the same as 'Châtaignier'\n",
    "    'Chênes sempervirents': 'Evergreen Oaks',\n",
    "    'Pin à crochets, pin cembro': 'Hooked Pine, Swiss Pine',\n",
    "    'ChÃ¢taignier': 'Chestnut',  # Encoding issue, assuming it's the same as 'Châtaignier'\n",
    "    'ChÃªnes dÃ©cidus': 'Deciduous Oaks',  # Encoding issue, assuming it's the same as 'Chênes décidus'\n",
    "    'HÃªtre': 'Beech',  # Encoding issue, assuming it's the same as 'Hêtre'\n",
    "    'ConifÃ¨res': 'Conifers',  # Encoding issue, assuming it's the same as 'Conifères'\n",
    "    'Pins mÃ©langÃ©s': 'Mixed Pines',  # Encoding issue, assuming it's the same as 'Pins mélangés'\n",
    "    'Sapin, Ã©picÃ©a': 'Fir, Spruce',  # Encoding issue, assuming it's the same as 'Sapin, épicéa'\n",
    "    'MÃ©lÃ¨ze': 'Larch',  # Encoding issue, assuming it's the same as 'Mélèze'\n",
    "    'ChÃªnes sempervirents': 'Evergreen Oaks',  # Encoding issue, assuming it's the same as 'Chênes sempervirents'\n",
    "    'Pin Ã\\xa0 crochets, pin cembro': 'Hooked Pine, Swiss Pine'  # Encoding issue, translated based on corrected text\n",
    "}\n",
    "\n",
    "bdforet2['essence'] = bdforet2.ESSENCE.apply(lambda x: translation_dict[x].lower() if x in translation_dict.keys() else None)"
   ]
  },
  {
   "cell_type": "code",
   "execution_count": 6,
   "metadata": {},
   "outputs": [],
   "source": [
    "bdforet2.geometry = bdforet2.geometry.simplify(30)"
   ]
  },
  {
   "cell_type": "code",
   "execution_count": 7,
   "metadata": {},
   "outputs": [],
   "source": [
    "bdforet2[['geometry', 'tree_type', 'essence']].to_parquet('../data/BDFORET_EPSG2154_FR_simplified30.parquet')"
   ]
  }
 ],
 "metadata": {
  "kernelspec": {
   "display_name": "DiAtDaJo",
   "language": "python",
   "name": "python3"
  },
  "language_info": {
   "codemirror_mode": {
    "name": "ipython",
    "version": 3
   },
   "file_extension": ".py",
   "mimetype": "text/x-python",
   "name": "python",
   "nbconvert_exporter": "python",
   "pygments_lexer": "ipython3",
   "version": "3.9.6"
  },
  "orig_nbformat": 4
 },
 "nbformat": 4,
 "nbformat_minor": 2
}
