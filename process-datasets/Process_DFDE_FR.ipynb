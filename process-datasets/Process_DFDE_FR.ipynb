{
 "cells": [
  {
   "cell_type": "markdown",
   "metadata": {},
   "source": [
    "Download links:\n",
    "- DFDE : https://dfde.efi.int/db/dfde_app.php\n",
    "\n",
    "# Method :\n",
    "\n",
    "1. GeoParsing using https://github.com/ArthurCalvi/GeoParsing \n",
    "2. Cleaning the name of tree specie"
   ]
  },
  {
   "cell_type": "code",
   "execution_count": 1,
   "metadata": {},
   "outputs": [
    {
     "data": {
      "text/html": [
       "<div>\n",
       "<style scoped>\n",
       "    .dataframe tbody tr th:only-of-type {\n",
       "        vertical-align: middle;\n",
       "    }\n",
       "\n",
       "    .dataframe tbody tr th {\n",
       "        vertical-align: top;\n",
       "    }\n",
       "\n",
       "    .dataframe thead th {\n",
       "        text-align: right;\n",
       "    }\n",
       "</style>\n",
       "<table border=\"1\" class=\"dataframe\">\n",
       "  <thead>\n",
       "    <tr style=\"text-align: right;\">\n",
       "      <th></th>\n",
       "      <th>id</th>\n",
       "      <th>start_date</th>\n",
       "      <th>end_date</th>\n",
       "      <th>cause</th>\n",
       "      <th>area</th>\n",
       "      <th>species</th>\n",
       "      <th>notes</th>\n",
       "      <th>country</th>\n",
       "      <th>location</th>\n",
       "      <th>name</th>\n",
       "      <th>geometry</th>\n",
       "      <th>area_km</th>\n",
       "      <th>reference</th>\n",
       "      <th>reference_long</th>\n",
       "    </tr>\n",
       "  </thead>\n",
       "  <tbody>\n",
       "    <tr>\n",
       "      <th>0</th>\n",
       "      <td>1136</td>\n",
       "      <td>1984-01-01 00:00:00</td>\n",
       "      <td>1984-12-28 00:00:00</td>\n",
       "      <td>Fire</td>\n",
       "      <td>14664.0</td>\n",
       "      <td>None</td>\n",
       "      <td>'Provence-Alpes-Côte d'Azur; Auvergne-Rhône-Al...</td>\n",
       "      <td>France</td>\n",
       "      <td>Republic of France(FR)</td>\n",
       "      <td>intersection: Auvergne-Rhône-Alpes,Midi-Pyréné...</td>\n",
       "      <td>POLYGON ((5.49478 44.11518, 5.46037 44.11834, ...</td>\n",
       "      <td>0.000000</td>\n",
       "      <td>Chevrou R.  1998</td>\n",
       "      <td>Chevrou, R., 1998. Prévention et lutte contre ...</td>\n",
       "    </tr>\n",
       "    <tr>\n",
       "      <th>1</th>\n",
       "      <td>30369</td>\n",
       "      <td>1984-01-01 00:00:00</td>\n",
       "      <td>1984-12-28 00:00:00</td>\n",
       "      <td>Wind</td>\n",
       "      <td>NaN</td>\n",
       "      <td>None</td>\n",
       "      <td>Mainly oak and beech</td>\n",
       "      <td>France</td>\n",
       "      <td>Vosges(FR)</td>\n",
       "      <td>Vosges</td>\n",
       "      <td>POLYGON ((5.39361 48.39177, 5.39367 48.39171, ...</td>\n",
       "      <td>5897.726024</td>\n",
       "      <td>Guillery 1987</td>\n",
       "      <td>Guillery, C. (1987). “Introduction.” Revue For...</td>\n",
       "    </tr>\n",
       "    <tr>\n",
       "      <th>2</th>\n",
       "      <td>57306</td>\n",
       "      <td>1984-02-01 00:00:00</td>\n",
       "      <td>1984-02-28 00:00:00</td>\n",
       "      <td>Wind</td>\n",
       "      <td>NaN</td>\n",
       "      <td>None</td>\n",
       "      <td>State forest</td>\n",
       "      <td>France;France;France</td>\n",
       "      <td>Picardie(FR);Bagnoles de l'Orne Normandie(FR);...</td>\n",
       "      <td>Bagnoles-de-l'Orne-Normandie</td>\n",
       "      <td>POLYGON ((-0.44611 48.56126, -0.44606 48.56117...</td>\n",
       "      <td>15.949458</td>\n",
       "      <td>Aspect Historique 2000</td>\n",
       "      <td>Aspect Historique de Chablis 2000, ONF</td>\n",
       "    </tr>\n",
       "    <tr>\n",
       "      <th>3</th>\n",
       "      <td>57309</td>\n",
       "      <td>1984-11-01 00:00:00</td>\n",
       "      <td>1984-11-28 00:00:00</td>\n",
       "      <td>Wind</td>\n",
       "      <td>NaN</td>\n",
       "      <td>None</td>\n",
       "      <td>State forest</td>\n",
       "      <td>France;France</td>\n",
       "      <td>Picardie(FR);Bagnoles de l'Orne Normandie(FR)</td>\n",
       "      <td>Bagnoles-de-l'Orne-Normandie</td>\n",
       "      <td>POLYGON ((-0.44611 48.56126, -0.44606 48.56117...</td>\n",
       "      <td>15.949458</td>\n",
       "      <td>Aspect Historique 2000</td>\n",
       "      <td>Aspect Historique de Chablis 2000, ONF</td>\n",
       "    </tr>\n",
       "    <tr>\n",
       "      <th>4</th>\n",
       "      <td>60061</td>\n",
       "      <td>1984-02-08 00:00:00</td>\n",
       "      <td>1984-02-08 00:00:00</td>\n",
       "      <td>Wind</td>\n",
       "      <td>NaN</td>\n",
       "      <td>None</td>\n",
       "      <td>Haute-Marne</td>\n",
       "      <td>France</td>\n",
       "      <td>Republic of France(FR)</td>\n",
       "      <td>Haute-Marne</td>\n",
       "      <td>POLYGON ((4.62751 48.46717, 4.62751 48.46711, ...</td>\n",
       "      <td>6256.237523</td>\n",
       "      <td>Doll 1988</td>\n",
       "      <td>Doll D., 1988. Les cataclysms meteorologiques ...</td>\n",
       "    </tr>\n",
       "    <tr>\n",
       "      <th>...</th>\n",
       "      <td>...</td>\n",
       "      <td>...</td>\n",
       "      <td>...</td>\n",
       "      <td>...</td>\n",
       "      <td>...</td>\n",
       "      <td>...</td>\n",
       "      <td>...</td>\n",
       "      <td>...</td>\n",
       "      <td>...</td>\n",
       "      <td>...</td>\n",
       "      <td>...</td>\n",
       "      <td>...</td>\n",
       "      <td>...</td>\n",
       "      <td>...</td>\n",
       "    </tr>\n",
       "    <tr>\n",
       "      <th>801</th>\n",
       "      <td>189735</td>\n",
       "      <td>2021-01-01 00:00:00</td>\n",
       "      <td>2021-12-28 00:00:00</td>\n",
       "      <td>Wind</td>\n",
       "      <td>NaN</td>\n",
       "      <td>None</td>\n",
       "      <td>Trend: no change</td>\n",
       "      <td>France</td>\n",
       "      <td>Hesse(FR)</td>\n",
       "      <td>Hesse</td>\n",
       "      <td>POLYGON ((7.01344 48.69227, 7.01369 48.69207, ...</td>\n",
       "      <td>12.961734</td>\n",
       "      <td>AFZ 2022</td>\n",
       "      <td>AFZ Der Wald (2022)</td>\n",
       "    </tr>\n",
       "    <tr>\n",
       "      <th>802</th>\n",
       "      <td>189772</td>\n",
       "      <td>2021-01-01 00:00:00</td>\n",
       "      <td>2021-12-28 00:00:00</td>\n",
       "      <td>Frost</td>\n",
       "      <td>NaN</td>\n",
       "      <td>None</td>\n",
       "      <td>late</td>\n",
       "      <td>France</td>\n",
       "      <td>Hesse(FR)</td>\n",
       "      <td>Hesse</td>\n",
       "      <td>POLYGON ((7.01344 48.69227, 7.01369 48.69207, ...</td>\n",
       "      <td>12.961734</td>\n",
       "      <td>AFZ 2022</td>\n",
       "      <td>AFZ Der Wald (2022)</td>\n",
       "    </tr>\n",
       "    <tr>\n",
       "      <th>803</th>\n",
       "      <td>189800</td>\n",
       "      <td>2021-01-01 00:00:00</td>\n",
       "      <td>2021-12-28 00:00:00</td>\n",
       "      <td>Beech decline</td>\n",
       "      <td>NaN</td>\n",
       "      <td>Fagus sylvatica</td>\n",
       "      <td>(Buchenrindennekrose);</td>\n",
       "      <td>France</td>\n",
       "      <td>Hesse(FR)</td>\n",
       "      <td>Hesse</td>\n",
       "      <td>POLYGON ((7.01344 48.69227, 7.01369 48.69207, ...</td>\n",
       "      <td>12.961734</td>\n",
       "      <td>AFZ 2022</td>\n",
       "      <td>AFZ Der Wald (2022)</td>\n",
       "    </tr>\n",
       "    <tr>\n",
       "      <th>804</th>\n",
       "      <td>189837</td>\n",
       "      <td>2021-01-01 00:00:00</td>\n",
       "      <td>2021-12-28 00:00:00</td>\n",
       "      <td>Viscum album</td>\n",
       "      <td>NaN</td>\n",
       "      <td>Conifers</td>\n",
       "      <td>Trend: increasing</td>\n",
       "      <td>France</td>\n",
       "      <td>Hesse(FR)</td>\n",
       "      <td>Hesse</td>\n",
       "      <td>POLYGON ((7.01344 48.69227, 7.01369 48.69207, ...</td>\n",
       "      <td>12.961734</td>\n",
       "      <td>AFZ 2022</td>\n",
       "      <td>AFZ Der Wald (2022)</td>\n",
       "    </tr>\n",
       "    <tr>\n",
       "      <th>805</th>\n",
       "      <td>189864</td>\n",
       "      <td>2021-01-01 00:00:00</td>\n",
       "      <td>2021-12-28 00:00:00</td>\n",
       "      <td>Beech decline</td>\n",
       "      <td>NaN</td>\n",
       "      <td>Fagus sylvatica</td>\n",
       "      <td>(Buchensterben);Trend: increasing</td>\n",
       "      <td>France</td>\n",
       "      <td>Hesse(FR)</td>\n",
       "      <td>Hesse</td>\n",
       "      <td>POLYGON ((7.01344 48.69227, 7.01369 48.69207, ...</td>\n",
       "      <td>12.961734</td>\n",
       "      <td>AFZ 2022</td>\n",
       "      <td>AFZ Der Wald (2022)</td>\n",
       "    </tr>\n",
       "  </tbody>\n",
       "</table>\n",
       "<p>802 rows × 14 columns</p>\n",
       "</div>"
      ],
      "text/plain": [
       "         id           start_date             end_date          cause     area  \\\n",
       "0      1136  1984-01-01 00:00:00  1984-12-28 00:00:00           Fire  14664.0   \n",
       "1     30369  1984-01-01 00:00:00  1984-12-28 00:00:00           Wind      NaN   \n",
       "2     57306  1984-02-01 00:00:00  1984-02-28 00:00:00           Wind      NaN   \n",
       "3     57309  1984-11-01 00:00:00  1984-11-28 00:00:00           Wind      NaN   \n",
       "4     60061  1984-02-08 00:00:00  1984-02-08 00:00:00           Wind      NaN   \n",
       "..      ...                  ...                  ...            ...      ...   \n",
       "801  189735  2021-01-01 00:00:00  2021-12-28 00:00:00           Wind      NaN   \n",
       "802  189772  2021-01-01 00:00:00  2021-12-28 00:00:00          Frost      NaN   \n",
       "803  189800  2021-01-01 00:00:00  2021-12-28 00:00:00  Beech decline      NaN   \n",
       "804  189837  2021-01-01 00:00:00  2021-12-28 00:00:00   Viscum album      NaN   \n",
       "805  189864  2021-01-01 00:00:00  2021-12-28 00:00:00  Beech decline      NaN   \n",
       "\n",
       "             species                                              notes  \\\n",
       "0               None  'Provence-Alpes-Côte d'Azur; Auvergne-Rhône-Al...   \n",
       "1               None                               Mainly oak and beech   \n",
       "2               None                                       State forest   \n",
       "3               None                                       State forest   \n",
       "4               None                                        Haute-Marne   \n",
       "..               ...                                                ...   \n",
       "801             None                                   Trend: no change   \n",
       "802             None                                               late   \n",
       "803  Fagus sylvatica                             (Buchenrindennekrose);   \n",
       "804         Conifers                                  Trend: increasing   \n",
       "805  Fagus sylvatica                  (Buchensterben);Trend: increasing   \n",
       "\n",
       "                  country                                           location  \\\n",
       "0                  France                             Republic of France(FR)   \n",
       "1                  France                                         Vosges(FR)   \n",
       "2    France;France;France  Picardie(FR);Bagnoles de l'Orne Normandie(FR);...   \n",
       "3           France;France      Picardie(FR);Bagnoles de l'Orne Normandie(FR)   \n",
       "4                  France                             Republic of France(FR)   \n",
       "..                    ...                                                ...   \n",
       "801                France                                          Hesse(FR)   \n",
       "802                France                                          Hesse(FR)   \n",
       "803                France                                          Hesse(FR)   \n",
       "804                France                                          Hesse(FR)   \n",
       "805                France                                          Hesse(FR)   \n",
       "\n",
       "                                                  name  \\\n",
       "0    intersection: Auvergne-Rhône-Alpes,Midi-Pyréné...   \n",
       "1                                               Vosges   \n",
       "2                         Bagnoles-de-l'Orne-Normandie   \n",
       "3                         Bagnoles-de-l'Orne-Normandie   \n",
       "4                                          Haute-Marne   \n",
       "..                                                 ...   \n",
       "801                                              Hesse   \n",
       "802                                              Hesse   \n",
       "803                                              Hesse   \n",
       "804                                              Hesse   \n",
       "805                                              Hesse   \n",
       "\n",
       "                                              geometry      area_km  \\\n",
       "0    POLYGON ((5.49478 44.11518, 5.46037 44.11834, ...     0.000000   \n",
       "1    POLYGON ((5.39361 48.39177, 5.39367 48.39171, ...  5897.726024   \n",
       "2    POLYGON ((-0.44611 48.56126, -0.44606 48.56117...    15.949458   \n",
       "3    POLYGON ((-0.44611 48.56126, -0.44606 48.56117...    15.949458   \n",
       "4    POLYGON ((4.62751 48.46717, 4.62751 48.46711, ...  6256.237523   \n",
       "..                                                 ...          ...   \n",
       "801  POLYGON ((7.01344 48.69227, 7.01369 48.69207, ...    12.961734   \n",
       "802  POLYGON ((7.01344 48.69227, 7.01369 48.69207, ...    12.961734   \n",
       "803  POLYGON ((7.01344 48.69227, 7.01369 48.69207, ...    12.961734   \n",
       "804  POLYGON ((7.01344 48.69227, 7.01369 48.69207, ...    12.961734   \n",
       "805  POLYGON ((7.01344 48.69227, 7.01369 48.69207, ...    12.961734   \n",
       "\n",
       "                  reference                                     reference_long  \n",
       "0          Chevrou R.  1998  Chevrou, R., 1998. Prévention et lutte contre ...  \n",
       "1             Guillery 1987  Guillery, C. (1987). “Introduction.” Revue For...  \n",
       "2    Aspect Historique 2000             Aspect Historique de Chablis 2000, ONF  \n",
       "3    Aspect Historique 2000             Aspect Historique de Chablis 2000, ONF  \n",
       "4                 Doll 1988  Doll D., 1988. Les cataclysms meteorologiques ...  \n",
       "..                      ...                                                ...  \n",
       "801                AFZ 2022                                AFZ Der Wald (2022)  \n",
       "802                AFZ 2022                                AFZ Der Wald (2022)  \n",
       "803                AFZ 2022                                AFZ Der Wald (2022)  \n",
       "804                AFZ 2022                                AFZ Der Wald (2022)  \n",
       "805                AFZ 2022                                AFZ Der Wald (2022)  \n",
       "\n",
       "[802 rows x 14 columns]"
      ]
     },
     "execution_count": 1,
     "metadata": {},
     "output_type": "execute_result"
    }
   ],
   "source": [
    "import geopandas as gpd \n",
    "\n",
    "dfde = gpd.read_parquet('../data/DFDE/FR/DFDE_1984_2021_EPSG4326_FR.parquet')\n",
    "dfde"
   ]
  },
  {
   "cell_type": "markdown",
   "metadata": {},
   "source": [
    "## Get Tree-specie"
   ]
  },
  {
   "cell_type": "code",
   "execution_count": 26,
   "metadata": {},
   "outputs": [],
   "source": [
    "import numpy as np\n",
    "\n",
    "def get_tree_type(string, dict_tree_type):\n",
    "    for key in dict_tree_type.keys():\n",
    "        if string in dict_tree_type[key]:\n",
    "            return key\n",
    "\n",
    "    return np.NaN\n",
    "\n",
    "# Classify each tree species\n",
    "\n",
    "dict_tree_type_dfde = {\n",
    "    'mixed': ['Conifers;Broadleaves', 'Broadleaves and conifers (conifers: 51 to 89%)'],\n",
    "    'conifer': ['Conifers', 'Spruce', 'Maritime pine', 'Pinus maritima', 'Pinus pinaster', 'Fir', 'Pines'],\n",
    "    'broadleaf': ['Broadleaves', 'Beech', 'Oak', 'Other broadleaves', 'Quercus suber', 'Fagus sylvatica', 'Quercus spp.']\n",
    "}\n",
    "\n",
    "dfde['tree_type'] = dfde.species.apply(lambda x: get_tree_type(x, dict_tree_type_dfde)) \n",
    "    "
   ]
  },
  {
   "cell_type": "markdown",
   "metadata": {},
   "source": [
    "## Cleaning essence"
   ]
  },
  {
   "cell_type": "code",
   "execution_count": 78,
   "metadata": {},
   "outputs": [],
   "source": [
    "# Dictionary to hold translations\n",
    "translation_dict = {\n",
    "    'Conifers': 'Conifers',\n",
    "    'Broadleaves': 'Broadleaves',\n",
    "    'Beech': 'Beech',\n",
    "    'Oak': 'Oak',\n",
    "    'Other broadleaves': 'Other Broadleaves',\n",
    "    'Spruce': 'Spruce',\n",
    "    'Maritime pine': 'Maritime Pine',\n",
    "    'Pinus maritima': 'Maritime Pine',  # Synonym to Maritime pine\n",
    "    'Quercus suber': 'Cork Oak',\n",
    "    'Conifers;Broadleaves': 'Conifers;Broadleaves',\n",
    "    'Pinus pinaster': 'Maritime Pine',\n",
    "    'Fir': 'Fir',\n",
    "    'Broadleaves and conifers (conifers: 51 to 89%)': 'Broadleaves and Conifers (conifers: 51 to 89%)',\n",
    "    'Pines': 'Pines',\n",
    "    'Fagus sylvatica': 'European Beech',\n",
    "    'Quercus spp.': 'Oaks'  # Quercus is the genus for all oaks\n",
    "}\n",
    "\n",
    "# Print the translation dictionary\n",
    "dfde['essence'] = dfde.species.apply(lambda x: translation_dict[x].lower() if x in translation_dict.keys() else None)\n"
   ]
  },
  {
   "cell_type": "code",
   "execution_count": 118,
   "metadata": {},
   "outputs": [],
   "source": [
    "dfde.to_parquet('../data/processed_datasets/DFDE_1984_2021_EPSG4326_FR.parquet')"
   ]
  },
  {
   "cell_type": "markdown",
   "metadata": {},
   "source": [
    "# Simplified version\n",
    "\n",
    "- Adding 'Class' column\n",
    "- Simplifying geometry at 5km "
   ]
  },
  {
   "cell_type": "code",
   "execution_count": 3,
   "metadata": {},
   "outputs": [],
   "source": [
    "import geopandas as gpd\n",
    "epsg = 'epsg:2154'\n",
    "dfde = gpd.read_parquet('../data/processed_datasets/DFDE_1984_2021_EPSG4326_FR.parquet').to_crs(epsg)"
   ]
  },
  {
   "cell_type": "code",
   "execution_count": 4,
   "metadata": {},
   "outputs": [],
   "source": [
    "# DFDE\n",
    "\n",
    "#class\n",
    "dict_class = {\n",
    "    'Fire': ['Fire'],\n",
    "    'Storm': ['Wind'],\n",
    "    'Drought': ['Summer drought', 'Frost'],\n",
    "    'Biotic': [\n",
    "        'Ips typographus', 'Pissodes spp.', 'Bark beetles', 'Bombix desparate',\n",
    "        'Zeiraphera diniana', 'Biotic', 'Insects', 'Other insects', 'Biotic;Abiotic',\n",
    "        'Pityogenes chalcographus', 'Tetropium luridum;Tetropium fuscum',\n",
    "        'Ips acuminatus', 'Tomicus piniperda;Tomicus minor',\n",
    "        'Phaenops cyanea', 'Pissodes pini', 'Ips cembrae',\n",
    "        'Tetropium gabrieli', 'Agrilus biguttatus', 'Agrilus viridis',\n",
    "        'Xyloterus lineatus', 'Erannis defoliaria',\n",
    "        'Operophtera brumata;Operophtera fagata', 'Lymantria dispar',\n",
    "        'Thaumetopoea processionea', 'Hylobius abietis',\n",
    "        'Melolontha hippocastani;Melolontha melolontha',\n",
    "        'Microtus agrestis;Microtus arvalis;Clethrionomys glareolus',\n",
    "        'Arvicola terrestris', 'Lophodermium seditiosum',\n",
    "        'Sphaeropsis sapinea', 'Heterobasidion annosum',\n",
    "        'Armillaria mellea', 'Chalara fraxinea;Hymenoscyphus fraxineus',\n",
    "        'Beech decline', 'Oak decline', 'Viscum album', 'Ips sexdentatus'\n",
    "    ],\n",
    "    'Tree-logging': [],\n",
    "    'Other': ['Accident']\n",
    "}\n",
    "\n",
    "def get_class(x):\n",
    "    for key, values in dict_class.items():\n",
    "        if x in values:\n",
    "            return key\n",
    "    return 'Other'\n",
    "\n",
    "dfde['class'] = dfde['cause'].apply(get_class)\n",
    "\n",
    "#geometry\n",
    "dname_geom = {k:v for k,v in zip(dfde['name'].tolist(), dfde['geometry'].tolist())}\n",
    "dname_geom = {k:v.buffer(5000).simplify(5000) for k,v in dname_geom.items()}\n",
    "dname_area = {k:v.area for k,v in dname_geom.items()}\n",
    "\n",
    "#drop duplicates \n",
    "dfde.drop_duplicates(subset=['name', 'start_date', 'end_date', 'essence', 'cause', 'notes'], inplace=True)\n",
    "dfde['geometry'] = dfde['name'].apply(lambda x: dname_geom[x]) \n",
    "\n",
    "#compute area here !\n",
    "dfde['area'] = dfde['name'].apply(lambda x: dname_area[x])\n",
    "\n",
    "#clean date\n",
    "import pandas as pd\n",
    "dfde['start_date'] = pd.to_datetime(dfde['start_date'])\n",
    "dfde['end_date'] = pd.to_datetime(dfde['end_date'])\n",
    "\n",
    "#keep_col\n",
    "dfde_col = ['start_date', 'end_date', 'geometry', 'class', 'tree_type', 'essence', 'cause', 'notes', 'area']\n",
    "dfde = dfde[dfde_col]\n",
    "\n",
    "dfde.dropna(inplace=True)\n",
    "dfde.drop_duplicates(inplace=True)\n",
    "\n",
    "groups = dfde.groupby(['start_date', 'end_date', 'cause', 'essence', 'geometry'])\n",
    "\n",
    "dfde = groups.agg('first').reset_index()\n",
    "dfde['notes'] = groups['notes'].agg(lambda x: ','.join(set(x))).reset_index()['notes']\n",
    "#put in a geodataframe\n",
    "dfde = gpd.GeoDataFrame(dfde, geometry='geometry', crs=epsg)\n"
   ]
  },
  {
   "cell_type": "code",
   "execution_count": 5,
   "metadata": {},
   "outputs": [
    {
     "data": {
      "text/html": [
       "<div>\n",
       "<style scoped>\n",
       "    .dataframe tbody tr th:only-of-type {\n",
       "        vertical-align: middle;\n",
       "    }\n",
       "\n",
       "    .dataframe tbody tr th {\n",
       "        vertical-align: top;\n",
       "    }\n",
       "\n",
       "    .dataframe thead th {\n",
       "        text-align: right;\n",
       "    }\n",
       "</style>\n",
       "<table border=\"1\" class=\"dataframe\">\n",
       "  <thead>\n",
       "    <tr style=\"text-align: right;\">\n",
       "      <th></th>\n",
       "      <th>start_date</th>\n",
       "      <th>end_date</th>\n",
       "      <th>cause</th>\n",
       "      <th>essence</th>\n",
       "      <th>geometry</th>\n",
       "      <th>class</th>\n",
       "      <th>tree_type</th>\n",
       "      <th>notes</th>\n",
       "      <th>area</th>\n",
       "    </tr>\n",
       "  </thead>\n",
       "  <tbody>\n",
       "    <tr>\n",
       "      <th>0</th>\n",
       "      <td>1984-01-01</td>\n",
       "      <td>1985-12-28</td>\n",
       "      <td>Ips typographus</td>\n",
       "      <td>spruce</td>\n",
       "      <td>POLYGON ((899332.033 6504278.695, 916386.336 6...</td>\n",
       "      <td>Biotic</td>\n",
       "      <td>conifer</td>\n",
       "      <td>Vallée de l'Isère; de la Savoie; Haute-Savoie;...</td>\n",
       "      <td>8.340199e+09</td>\n",
       "    </tr>\n",
       "    <tr>\n",
       "      <th>1</th>\n",
       "      <td>1984-01-01</td>\n",
       "      <td>1986-12-28</td>\n",
       "      <td>Ips typographus</td>\n",
       "      <td>spruce</td>\n",
       "      <td>POLYGON ((785984.001 6434917.323, 778975.383 6...</td>\n",
       "      <td>Biotic</td>\n",
       "      <td>conifer</td>\n",
       "      <td>Forêt domaniale du Meygal (Haute-Loire); &gt;2700...</td>\n",
       "      <td>1.132578e+08</td>\n",
       "    </tr>\n",
       "    <tr>\n",
       "      <th>2</th>\n",
       "      <td>1984-01-01</td>\n",
       "      <td>1991-12-28</td>\n",
       "      <td>Ips typographus</td>\n",
       "      <td>spruce</td>\n",
       "      <td>POLYGON ((785984.001 6434917.323, 778975.383 6...</td>\n",
       "      <td>Biotic</td>\n",
       "      <td>conifer</td>\n",
       "      <td>Forêt domaniale du Meygal (Haute-Loire)</td>\n",
       "      <td>1.132578e+08</td>\n",
       "    </tr>\n",
       "    <tr>\n",
       "      <th>3</th>\n",
       "      <td>1984-07-11</td>\n",
       "      <td>1984-07-11</td>\n",
       "      <td>Wind</td>\n",
       "      <td>beech</td>\n",
       "      <td>POLYGON ((871607.947 6937228.796, 891400.885 6...</td>\n",
       "      <td>Storm</td>\n",
       "      <td>broadleaf</td>\n",
       "      <td>Briey; Percentage of beech in total wood blown...</td>\n",
       "      <td>7.889669e+09</td>\n",
       "    </tr>\n",
       "    <tr>\n",
       "      <th>4</th>\n",
       "      <td>1984-07-11</td>\n",
       "      <td>1984-07-11</td>\n",
       "      <td>Wind</td>\n",
       "      <td>beech</td>\n",
       "      <td>POLYGON ((815482.473 6818456.330, 827143.074 6...</td>\n",
       "      <td>Storm</td>\n",
       "      <td>broadleaf</td>\n",
       "      <td>Percentage of beech in total wood blown over.</td>\n",
       "      <td>8.455180e+09</td>\n",
       "    </tr>\n",
       "    <tr>\n",
       "      <th>...</th>\n",
       "      <td>...</td>\n",
       "      <td>...</td>\n",
       "      <td>...</td>\n",
       "      <td>...</td>\n",
       "      <td>...</td>\n",
       "      <td>...</td>\n",
       "      <td>...</td>\n",
       "      <td>...</td>\n",
       "      <td>...</td>\n",
       "    </tr>\n",
       "    <tr>\n",
       "      <th>77</th>\n",
       "      <td>2021-01-01</td>\n",
       "      <td>2021-12-28</td>\n",
       "      <td>Beech decline</td>\n",
       "      <td>european beech</td>\n",
       "      <td>POLYGON ((991984.368 6854824.724, 1000767.300 ...</td>\n",
       "      <td>Biotic</td>\n",
       "      <td>broadleaf</td>\n",
       "      <td>(Buchenrindennekrose);,(Buchensterben);Trend: ...</td>\n",
       "      <td>1.028472e+08</td>\n",
       "    </tr>\n",
       "    <tr>\n",
       "      <th>78</th>\n",
       "      <td>2021-01-01</td>\n",
       "      <td>2021-12-28</td>\n",
       "      <td>Chalara fraxinea;Hymenoscyphus fraxineus</td>\n",
       "      <td>broadleaves</td>\n",
       "      <td>POLYGON ((991984.368 6854824.724, 1000767.300 ...</td>\n",
       "      <td>Biotic</td>\n",
       "      <td>broadleaf</td>\n",
       "      <td>Trend: no change</td>\n",
       "      <td>1.028472e+08</td>\n",
       "    </tr>\n",
       "    <tr>\n",
       "      <th>79</th>\n",
       "      <td>2021-01-01</td>\n",
       "      <td>2021-12-28</td>\n",
       "      <td>Pissodes pini</td>\n",
       "      <td>pines</td>\n",
       "      <td>POLYGON ((991984.368 6854824.724, 1000767.300 ...</td>\n",
       "      <td>Biotic</td>\n",
       "      <td>conifer</td>\n",
       "      <td>Trend: increasing</td>\n",
       "      <td>1.028472e+08</td>\n",
       "    </tr>\n",
       "    <tr>\n",
       "      <th>80</th>\n",
       "      <td>2021-01-01</td>\n",
       "      <td>2021-12-28</td>\n",
       "      <td>Sphaeropsis sapinea</td>\n",
       "      <td>conifers</td>\n",
       "      <td>POLYGON ((991984.368 6854824.724, 1000767.300 ...</td>\n",
       "      <td>Biotic</td>\n",
       "      <td>conifer</td>\n",
       "      <td>Trend: increasing</td>\n",
       "      <td>1.028472e+08</td>\n",
       "    </tr>\n",
       "    <tr>\n",
       "      <th>81</th>\n",
       "      <td>2021-01-01</td>\n",
       "      <td>2021-12-28</td>\n",
       "      <td>Viscum album</td>\n",
       "      <td>conifers</td>\n",
       "      <td>POLYGON ((991984.368 6854824.724, 1000767.300 ...</td>\n",
       "      <td>Biotic</td>\n",
       "      <td>conifer</td>\n",
       "      <td>Trend: increasing</td>\n",
       "      <td>1.028472e+08</td>\n",
       "    </tr>\n",
       "  </tbody>\n",
       "</table>\n",
       "<p>82 rows × 9 columns</p>\n",
       "</div>"
      ],
      "text/plain": [
       "   start_date   end_date                                     cause  \\\n",
       "0  1984-01-01 1985-12-28                           Ips typographus   \n",
       "1  1984-01-01 1986-12-28                           Ips typographus   \n",
       "2  1984-01-01 1991-12-28                           Ips typographus   \n",
       "3  1984-07-11 1984-07-11                                      Wind   \n",
       "4  1984-07-11 1984-07-11                                      Wind   \n",
       "..        ...        ...                                       ...   \n",
       "77 2021-01-01 2021-12-28                             Beech decline   \n",
       "78 2021-01-01 2021-12-28  Chalara fraxinea;Hymenoscyphus fraxineus   \n",
       "79 2021-01-01 2021-12-28                             Pissodes pini   \n",
       "80 2021-01-01 2021-12-28                       Sphaeropsis sapinea   \n",
       "81 2021-01-01 2021-12-28                              Viscum album   \n",
       "\n",
       "           essence                                           geometry   class  \\\n",
       "0           spruce  POLYGON ((899332.033 6504278.695, 916386.336 6...  Biotic   \n",
       "1           spruce  POLYGON ((785984.001 6434917.323, 778975.383 6...  Biotic   \n",
       "2           spruce  POLYGON ((785984.001 6434917.323, 778975.383 6...  Biotic   \n",
       "3            beech  POLYGON ((871607.947 6937228.796, 891400.885 6...   Storm   \n",
       "4            beech  POLYGON ((815482.473 6818456.330, 827143.074 6...   Storm   \n",
       "..             ...                                                ...     ...   \n",
       "77  european beech  POLYGON ((991984.368 6854824.724, 1000767.300 ...  Biotic   \n",
       "78     broadleaves  POLYGON ((991984.368 6854824.724, 1000767.300 ...  Biotic   \n",
       "79           pines  POLYGON ((991984.368 6854824.724, 1000767.300 ...  Biotic   \n",
       "80        conifers  POLYGON ((991984.368 6854824.724, 1000767.300 ...  Biotic   \n",
       "81        conifers  POLYGON ((991984.368 6854824.724, 1000767.300 ...  Biotic   \n",
       "\n",
       "    tree_type                                              notes          area  \n",
       "0     conifer  Vallée de l'Isère; de la Savoie; Haute-Savoie;...  8.340199e+09  \n",
       "1     conifer  Forêt domaniale du Meygal (Haute-Loire); >2700...  1.132578e+08  \n",
       "2     conifer            Forêt domaniale du Meygal (Haute-Loire)  1.132578e+08  \n",
       "3   broadleaf  Briey; Percentage of beech in total wood blown...  7.889669e+09  \n",
       "4   broadleaf      Percentage of beech in total wood blown over.  8.455180e+09  \n",
       "..        ...                                                ...           ...  \n",
       "77  broadleaf  (Buchenrindennekrose);,(Buchensterben);Trend: ...  1.028472e+08  \n",
       "78  broadleaf                                   Trend: no change  1.028472e+08  \n",
       "79    conifer                                  Trend: increasing  1.028472e+08  \n",
       "80    conifer                                  Trend: increasing  1.028472e+08  \n",
       "81    conifer                                  Trend: increasing  1.028472e+08  \n",
       "\n",
       "[82 rows x 9 columns]"
      ]
     },
     "execution_count": 5,
     "metadata": {},
     "output_type": "execute_result"
    }
   ],
   "source": [
    "dfde"
   ]
  },
  {
   "cell_type": "code",
   "execution_count": 6,
   "metadata": {},
   "outputs": [],
   "source": [
    "\n",
    "dfde.to_parquet('../data/processed_datasets/simplified_DFDE_1984_2021_EPSG2154_FR.parquet')"
   ]
  },
  {
   "cell_type": "markdown",
   "metadata": {},
   "source": [
    "# Simplified version with separation per species\n",
    "\n",
    "\n"
   ]
  },
  {
   "cell_type": "code",
   "execution_count": 1,
   "metadata": {},
   "outputs": [],
   "source": [
    "import geopandas as gpd\n",
    "\n",
    "dfde = gpd.read_parquet('../data/processed_datasets/simplified_DFDE_1984_2021_EPSG2154_FR.parquet')\n",
    "dfde['index'] = dfde.index\n",
    "bdforet = gpd.read_parquet('../data/processed_datasets/BDFORET_EPSG2154_FR_simplified30.parquet')\n",
    "assert bdforet.crs == dfde.crs\n"
   ]
  },
  {
   "cell_type": "code",
   "execution_count": 2,
   "metadata": {},
   "outputs": [
    {
     "data": {
      "text/html": [
       "<div>\n",
       "<style scoped>\n",
       "    .dataframe tbody tr th:only-of-type {\n",
       "        vertical-align: middle;\n",
       "    }\n",
       "\n",
       "    .dataframe tbody tr th {\n",
       "        vertical-align: top;\n",
       "    }\n",
       "\n",
       "    .dataframe thead th {\n",
       "        text-align: right;\n",
       "    }\n",
       "</style>\n",
       "<table border=\"1\" class=\"dataframe\">\n",
       "  <thead>\n",
       "    <tr style=\"text-align: right;\">\n",
       "      <th></th>\n",
       "      <th>geometry</th>\n",
       "      <th>tree_type</th>\n",
       "      <th>essence</th>\n",
       "    </tr>\n",
       "  </thead>\n",
       "  <tbody>\n",
       "    <tr>\n",
       "      <th>0</th>\n",
       "      <td>POLYGON ((305131.152 6723894.849, 305098.311 6...</td>\n",
       "      <td>Conifer</td>\n",
       "      <td>maritime pine</td>\n",
       "    </tr>\n",
       "    <tr>\n",
       "      <th>1</th>\n",
       "      <td>POLYGON ((234808.271 6757525.471, 234969.071 6...</td>\n",
       "      <td>None</td>\n",
       "      <td>None</td>\n",
       "    </tr>\n",
       "    <tr>\n",
       "      <th>2</th>\n",
       "      <td>POLYGON ((315694.688 6752307.200, 315586.261 6...</td>\n",
       "      <td>Conifer</td>\n",
       "      <td>maritime pine</td>\n",
       "    </tr>\n",
       "    <tr>\n",
       "      <th>3</th>\n",
       "      <td>POLYGON ((237181.225 6797347.225, 237079.249 6...</td>\n",
       "      <td>Mixed</td>\n",
       "      <td>mixed</td>\n",
       "    </tr>\n",
       "    <tr>\n",
       "      <th>4</th>\n",
       "      <td>POLYGON ((252455.750 6775321.875, 252454.860 6...</td>\n",
       "      <td>Broadleaf</td>\n",
       "      <td>broadleaf</td>\n",
       "    </tr>\n",
       "    <tr>\n",
       "      <th>...</th>\n",
       "      <td>...</td>\n",
       "      <td>...</td>\n",
       "      <td>...</td>\n",
       "    </tr>\n",
       "    <tr>\n",
       "      <th>2029664</th>\n",
       "      <td>POLYGON ((699996.756 6424972.980, 699853.351 6...</td>\n",
       "      <td>None</td>\n",
       "      <td>nr</td>\n",
       "    </tr>\n",
       "    <tr>\n",
       "      <th>2029665</th>\n",
       "      <td>POLYGON ((699990.800 6425123.000, 700058.000 6...</td>\n",
       "      <td>Broadleaf</td>\n",
       "      <td>broadleaf</td>\n",
       "    </tr>\n",
       "    <tr>\n",
       "      <th>2029666</th>\n",
       "      <td>POLYGON ((691655.767 6410520.230, 691575.113 6...</td>\n",
       "      <td>Conifer</td>\n",
       "      <td>scots pine</td>\n",
       "    </tr>\n",
       "    <tr>\n",
       "      <th>2029667</th>\n",
       "      <td>POLYGON ((700028.000 6435795.800, 699950.000 6...</td>\n",
       "      <td>Broadleaf</td>\n",
       "      <td>broadleaf</td>\n",
       "    </tr>\n",
       "    <tr>\n",
       "      <th>2029668</th>\n",
       "      <td>POLYGON ((692374.293 6470148.796, 692452.081 6...</td>\n",
       "      <td>Broadleaf</td>\n",
       "      <td>broadleaf</td>\n",
       "    </tr>\n",
       "  </tbody>\n",
       "</table>\n",
       "<p>2029669 rows × 3 columns</p>\n",
       "</div>"
      ],
      "text/plain": [
       "                                                  geometry  tree_type  \\\n",
       "0        POLYGON ((305131.152 6723894.849, 305098.311 6...    Conifer   \n",
       "1        POLYGON ((234808.271 6757525.471, 234969.071 6...       None   \n",
       "2        POLYGON ((315694.688 6752307.200, 315586.261 6...    Conifer   \n",
       "3        POLYGON ((237181.225 6797347.225, 237079.249 6...      Mixed   \n",
       "4        POLYGON ((252455.750 6775321.875, 252454.860 6...  Broadleaf   \n",
       "...                                                    ...        ...   \n",
       "2029664  POLYGON ((699996.756 6424972.980, 699853.351 6...       None   \n",
       "2029665  POLYGON ((699990.800 6425123.000, 700058.000 6...  Broadleaf   \n",
       "2029666  POLYGON ((691655.767 6410520.230, 691575.113 6...    Conifer   \n",
       "2029667  POLYGON ((700028.000 6435795.800, 699950.000 6...  Broadleaf   \n",
       "2029668  POLYGON ((692374.293 6470148.796, 692452.081 6...  Broadleaf   \n",
       "\n",
       "               essence  \n",
       "0        maritime pine  \n",
       "1                 None  \n",
       "2        maritime pine  \n",
       "3                mixed  \n",
       "4            broadleaf  \n",
       "...                ...  \n",
       "2029664             nr  \n",
       "2029665      broadleaf  \n",
       "2029666     scots pine  \n",
       "2029667      broadleaf  \n",
       "2029668      broadleaf  \n",
       "\n",
       "[2029669 rows x 3 columns]"
      ]
     },
     "execution_count": 2,
     "metadata": {},
     "output_type": "execute_result"
    }
   ],
   "source": [
    "bdforet"
   ]
  },
  {
   "cell_type": "code",
   "execution_count": 3,
   "metadata": {},
   "outputs": [],
   "source": [
    "dfde_forest_intersect = gpd.overlay(dfde, bdforet, how='intersection')"
   ]
  },
  {
   "cell_type": "code",
   "execution_count": 4,
   "metadata": {},
   "outputs": [],
   "source": [
    "from thefuzz import fuzz \n",
    "import pandas as pd\n",
    "\n",
    "def compute_tree_coherence(row1 : pd.Series, row2 : pd.Series) -> float:\n",
    "    \"\"\"Compute the tree coherence between two rows\n",
    "\n",
    "    Args:\n",
    "        row1 (pd.Series): first row\n",
    "        row2 (pd.Series): second row\n",
    "\n",
    "    Returns:\n",
    "        float: tree coherence\n",
    "    \"\"\"\n",
    "\n",
    "    for essence1 in row1['essence'].split(','):\n",
    "        for essence2 in row2['essence'].split(','):\n",
    "            if fuzz.token_set_ratio(essence1.lower(), essence2.lower()) > 80:\n",
    "                return 1\n",
    "        \n",
    "    if row1['tree_type'].lower() == row2['tree_type'].lower():\n",
    "        return 0.75 \n",
    "    \n",
    "    if row1['tree_type'].lower() == 'mixed' or row2['tree_type'].lower() == 'mixed':\n",
    "        return 0.5\n",
    "\n",
    "    return 0.25 \n",
    "\n",
    "# Step 2: Filter based on tree coherence\n",
    "def filter_based_on_coherence(row):\n",
    "    # Find the matching rows in bdforet\n",
    "    row1 = row[['tree_type_1', 'essence_1']].rename({'tree_type_1': 'tree_type', 'essence_1': 'essence'}).fillna('')\n",
    "    row2 = row[['tree_type_2', 'essence_2']].rename({'tree_type_2': 'tree_type', 'essence_2': 'essence'}).fillna('')\n",
    "    return compute_tree_coherence(row1, row2) \n",
    "\n",
    "#Apply the filter\n",
    "dfde_forest_intersect['filter_tc'] = dfde_forest_intersect.apply(filter_based_on_coherence, axis=1)\n"
   ]
  },
  {
   "cell_type": "code",
   "execution_count": 8,
   "metadata": {},
   "outputs": [],
   "source": [
    "dfde_forest_intersect.to_parquet('../data/processed_datasets/DFDE_1984_2021_EPSG2154_FR_WIP.parquet')"
   ]
  },
  {
   "cell_type": "code",
   "execution_count": 1,
   "metadata": {},
   "outputs": [],
   "source": [
    "import geopandas as gpd\n",
    "dfde_forest_intersect = gpd.read_parquet('../data/processed_datasets/DFDE_1984_2021_EPSG2154_FR_WIP.parquet')"
   ]
  },
  {
   "cell_type": "code",
   "execution_count": 2,
   "metadata": {},
   "outputs": [
    {
     "data": {
      "text/plain": [
       "82"
      ]
     },
     "execution_count": 2,
     "metadata": {},
     "output_type": "execute_result"
    }
   ],
   "source": [
    "dfde_forest_intersect['index'].nunique()"
   ]
  },
  {
   "cell_type": "code",
   "execution_count": 3,
   "metadata": {},
   "outputs": [
    {
     "data": {
      "text/plain": [
       "82"
      ]
     },
     "execution_count": 3,
     "metadata": {},
     "output_type": "execute_result"
    }
   ],
   "source": [
    "dfde = dfde_forest_intersect[dfde_forest_intersect['filter_tc'] > 0.5]\n",
    "dfde['index'].nunique()"
   ]
  },
  {
   "cell_type": "code",
   "execution_count": 4,
   "metadata": {},
   "outputs": [
    {
     "name": "stderr",
     "output_type": "stream",
     "text": [
      "/var/folders/1c/h8t9_vd53gsgz_wm9kswm8wm0000gp/T/ipykernel_1510/3734732370.py:2: FutureWarning: The provided callable <built-in function max> is currently using SeriesGroupBy.max. In a future version of pandas, the provided callable will be used directly. To keep current behavior pass 'max' instead.\n",
      "  max_filter_tc = dfde.groupby('index')['filter_tc'].transform(max)\n"
     ]
    }
   ],
   "source": [
    "# Step 1: Group by 'index' and find the maximum 'filter_tc' for each group\n",
    "max_filter_tc = dfde.groupby('index')['filter_tc'].transform(max)\n",
    "\n",
    "# Step 2: Filter the GeoDataFrame\n",
    "gdf_filtered = dfde[dfde['filter_tc'] == max_filter_tc]"
   ]
  },
  {
   "cell_type": "code",
   "execution_count": 14,
   "metadata": {},
   "outputs": [],
   "source": [
    "#group geometries by [index,essence_2] \n",
    "dfde_grouped = gdf_filtered.dissolve(by=['index', 'essence_2'], aggfunc='first')"
   ]
  },
  {
   "cell_type": "code",
   "execution_count": 17,
   "metadata": {},
   "outputs": [],
   "source": [
    "dfde_grouped = dfde_grouped.reset_index()"
   ]
  },
  {
   "cell_type": "code",
   "execution_count": 26,
   "metadata": {},
   "outputs": [],
   "source": [
    "dfde_grouped.geometry = dfde_grouped.geometry.buffer(100).simplify(100)"
   ]
  },
  {
   "cell_type": "code",
   "execution_count": 47,
   "metadata": {},
   "outputs": [],
   "source": [
    "import numpy as np \n",
    "\n",
    "dfde_grouped['spatial_weight'] = dfde_grouped.apply(lambda x:  7 / np.sqrt(x.geometry.area * 1e-6 / np.pi) , axis=1)\n"
   ]
  },
  {
   "cell_type": "code",
   "execution_count": 48,
   "metadata": {},
   "outputs": [
    {
     "data": {
      "text/plain": [
       "<Axes: >"
      ]
     },
     "execution_count": 48,
     "metadata": {},
     "output_type": "execute_result"
    },
    {
     "data": {
      "image/png": "[encoded data removed]",
      "text/plain": [
       "<Figure size 640x480 with 1 Axes>"
      ]
     },
     "metadata": {},
     "output_type": "display_data"
    }
   ],
   "source": [
    "dfde_grouped['spatial_weight'].hist(bins=100)"
   ]
  },
  {
   "cell_type": "markdown",
   "metadata": {},
   "source": [
    "## Comparison with the original data"
   ]
  },
  {
   "cell_type": "code",
   "execution_count": 68,
   "metadata": {},
   "outputs": [],
   "source": [
    "dfde_original = gpd.read_parquet('../data/processed_datasets/simplified_DFDE_1984_2021_EPSG2154_FR.parquet')"
   ]
  },
  {
   "cell_type": "code",
   "execution_count": 69,
   "metadata": {},
   "outputs": [],
   "source": [
    "dfde_original['index'] = dfde_original.index"
   ]
  },
  {
   "cell_type": "code",
   "execution_count": 73,
   "metadata": {},
   "outputs": [
    {
     "data": {
      "image/svg+xml": [
       "<svg xmlns=\"http://www.w3.org/2000/svg\" xmlns:xlink=\"http://www.w3.org/1999/xlink\" width=\"300\" height=\"300\" viewBox=\"894164.8804039223 6434996.18490008 139513.13261217752 117582.46395771019\" preserveAspectRatio=\"xMinYMin meet\"><g transform=\"matrix(1,0,0,-1,0,12987574.83375787)\"><path fill-rule=\"evenodd\" fill=\"#66cc99\" stroke=\"#555555\" stroke-width=\"930.0875507478502\" opacity=\"0.6\" d=\"M 899332.0334636326,6504278.695428117 L 916386.3357277222,6545775.923997928 L 925284.7986420505,6544534.761016121 L 936554.5683347775,6526387.513254461 L 954858.9511075412,6520252.82509639 L 973698.9959480105,6547411.49579808 L 981463.5895207138,6533727.670370423 L 997480.1500362278,6531551.5626796745 L 1015093.607440693,6515882.306260399 L 1028510.8599563895,6488651.056496353 L 1003832.0381997324,6452541.799986957 L 970894.1359825816,6440163.33795979 L 942765.7922052444,6452815.1131592635 L 942059.0164677036,6481106.811780513 L 926318.401250745,6475834.228613891 L 911864.8913503715,6481189.200057989 L 899332.0334636326,6504278.695428117 z\" /></g></svg>"
      ],
      "text/plain": [
       "<POLYGON ((899332.033 6504278.695, 916386.336 6545775.924, 925284.799 654453...>"
      ]
     },
     "execution_count": 73,
     "metadata": {},
     "output_type": "execute_result"
    }
   ],
   "source": []
  },
  {
   "cell_type": "code",
   "execution_count": 108,
   "metadata": {},
   "outputs": [],
   "source": [
    "dfde_grouped.geometry = dfde_grouped.geometry.simplify(1000)"
   ]
  },
  {
   "cell_type": "code",
   "execution_count": 119,
   "metadata": {},
   "outputs": [
    {
     "name": "stderr",
     "output_type": "stream",
     "text": [
      "/Users/arthurcalvi/Venv/DiAtDaJo/lib/python3.9/site-packages/geopandas/plotting.py:732: FutureWarning: is_categorical_dtype is deprecated and will be removed in a future version. Use isinstance(dtype, CategoricalDtype) instead\n",
      "  if pd.api.types.is_categorical_dtype(values.dtype):\n"
     ]
    },
    {
     "data": {
      "image/png": "[encoded data removed]",
      "text/plain": [
       "<Figure size 1000x1000 with 1 Axes>"
      ]
     },
     "metadata": {},
     "output_type": "display_data"
    }
   ],
   "source": [
    "import matplotlib.pyplot as plt\n",
    "index = 38\n",
    "fig, ax = plt.subplots(figsize=(10,10))\n",
    "dfde_original[dfde_original['index'] == index].plot(ax=ax, linestyle='--', color='k', alpha=0.5)\n",
    "dfde_grouped[dfde_grouped['index'] == index].plot(ax=ax, column='essence_2', legend=True)\n",
    "ax.set_title(f'Index: {index}')\n",
    "ax.grid()\n",
    "#drop the axis on the figures\n",
    "ax.set_axis_off() \n"
   ]
  },
  {
   "cell_type": "markdown",
   "metadata": {},
   "source": [
    "## writing"
   ]
  },
  {
   "cell_type": "code",
   "execution_count": 121,
   "metadata": {},
   "outputs": [],
   "source": [
    "dfde_grouped.rename(columns={'essence_2': 'essence_bdforet', 'essence_1':'essence', 'tree_type_1':'tree_type', 'index':'ref_dfde'}, inplace=True)\n",
    "col = ['geometry', 'start_date', 'end_date', 'cause', 'class', 'ref_dfde', 'essence', 'essence_bdforet', 'tree_type'] \n",
    "dfde_grouped[col].to_parquet('../data/processed_datasets/simplified_refined_DFDE_1984_2021_EPSG2154_FR.parquet')"
   ]
  },
  {
   "cell_type": "code",
   "execution_count": 1,
   "metadata": {},
   "outputs": [],
   "source": [
    "import geopandas as gpd\n",
    "dfde = gpd.read_parquet('../data/processed_datasets/simplified_refined_DFDE_1984_2021_EPSG2154_FR.parquet')"
   ]
  },
  {
   "cell_type": "code",
   "execution_count": 2,
   "metadata": {},
   "outputs": [
    {
     "name": "stderr",
     "output_type": "stream",
     "text": [
      "/Users/arthurcalvi/Venv/DiAtDaJo/lib/python3.9/site-packages/geopandas/geoseries.py:645: FutureWarning: the convert_dtype parameter is deprecated and will be removed in a future version.  Do ``ser.astype(object).apply()`` instead if you want ``convert_dtype=False``.\n",
      "  result = super().apply(func, convert_dtype=convert_dtype, args=args, **kwargs)\n"
     ]
    }
   ],
   "source": [
    "a = dfde['geometry'].apply(lambda x: x.is_valid)"
   ]
  },
  {
   "cell_type": "code",
   "execution_count": 7,
   "metadata": {},
   "outputs": [
    {
     "name": "stderr",
     "output_type": "stream",
     "text": [
      "/Users/arthurcalvi/Venv/DiAtDaJo/lib/python3.9/site-packages/geopandas/geoseries.py:645: FutureWarning: the convert_dtype parameter is deprecated and will be removed in a future version.  Do ``ser.astype(object).apply()`` instead if you want ``convert_dtype=False``.\n",
      "  result = super().apply(func, convert_dtype=convert_dtype, args=args, **kwargs)\n"
     ]
    }
   ],
   "source": [
    "def repair_geometry(geom):\n",
    "    if not geom.is_valid:\n",
    "        return geom.buffer(0)\n",
    "    return geom\n",
    "\n",
    "# Apply the function to repair geometries\n",
    "dfde['geometry'] = dfde['geometry'].apply(repair_geometry)"
   ]
  },
  {
   "cell_type": "code",
   "execution_count": null,
   "metadata": {},
   "outputs": [],
   "source": [
    "dfde.to_parquet('../data/processed_datasets/simplified_refined_DFDE_1984_2021_EPSG2154_FR.parquet')"
   ]
  }
 ],
 "metadata": {
  "kernelspec": {
   "display_name": "DiAtDaJo",
   "language": "python",
   "name": "python3"
  },
  "language_info": {
   "codemirror_mode": {
    "name": "ipython",
    "version": 3
   },
   "file_extension": ".py",
   "mimetype": "text/x-python",
   "name": "python",
   "nbconvert_exporter": "python",
   "pygments_lexer": "ipython3",
   "version": "3.9.6"
  },
  "orig_nbformat": 4
 },
 "nbformat": 4,
 "nbformat_minor": 2
}
