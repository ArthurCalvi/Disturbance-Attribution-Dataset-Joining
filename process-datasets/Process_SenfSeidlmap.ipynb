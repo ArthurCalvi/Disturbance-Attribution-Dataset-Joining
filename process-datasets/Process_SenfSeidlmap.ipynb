{
 "cells": [
  {
   "cell_type": "markdown",
   "metadata": {},
   "source": [
    "Download links:\n",
    "- Attribution : https://zenodo.org/record/8202241 (please use version 1.2 with the Black Beetle & Wind merge)\n",
    "- Year : https://zenodo.org/record/7080016#.Y7QtTS8w30o \n",
    "\n",
    "I recommand to check both maps and their CRS with QGIS before running this script. \n",
    "\n",
    "Note : time for each cell are indicated for a MacBook Pro with intel i5 processor. \n",
    "\n",
    "# Method :\n",
    "\n",
    "1. Both rasters are loaded and transformed to GeoDataFrames. The polygon per raw created for both GeoDataFrames are not the same. We cannot join on INDEX. \n",
    "2. The two GeoDataFrames are spatially joined. This will ensure a correct spatial correspondance between date and cause from the two maps. \n",
    "3. Polygons are cleaned. First polygons are grouped per class and cause. Then, polygons are normalized and united together. Finally cluster of polygons with same date and cause are exploded to create a new polygon per row. "
   ]
  },
  {
   "cell_type": "code",
   "execution_count": 1,
   "metadata": {},
   "outputs": [
    {
     "name": "stdout",
     "output_type": "stream",
     "text": [
      "attribution :\n",
      "-crs : EPSG:3035\n",
      "-dtype : ('float32',)\n",
      "-nodata: -3.3999999521443642e+38\n",
      "-values: [-3.4e+38  1.0e+00  2.0e+00  3.0e+00]\n",
      "year :\n",
      "-crs : PROJCS[\"unnamed\",GEOGCS[\"GRS 1980(IUGG, 1980)\",DATUM[\"unknown\",SPHEROID[\"GRS80\",6378137,298.257222101],TOWGS84[0,0,0,0,0,0,0]],PRIMEM[\"Greenwich\",0],UNIT[\"degree\",0.0174532925199433,AUTHORITY[\"EPSG\",\"9122\"]]],PROJECTION[\"Lambert_Azimuthal_Equal_Area\"],PARAMETER[\"latitude_of_center\",52],PARAMETER[\"longitude_of_center\",10],PARAMETER[\"false_easting\",4321000],PARAMETER[\"false_northing\",3210000],UNIT[\"metre\",1],AXIS[\"Easting\",EAST],AXIS[\"Northing\",NORTH]]\n",
      "-dtype : ('uint16',)\n",
      "-nodata: 65535.0\n",
      "-values: [ 1986  1987  1988  1989  1990  1991  1992  1993  1994  1995  1996  1997\n",
      "  1998  1999  2000  2001  2002  2003  2004  2005  2006  2007  2008  2009\n",
      "  2010  2011  2012  2013  2014  2015  2016  2017  2018  2019  2020 65535]\n"
     ]
    }
   ],
   "source": [
    "#Loading both maps (~1min)\n",
    "import rasterio\n",
    "from rasterio.crs import CRS\n",
    "\n",
    "import geopandas as gpd\n",
    "import numpy as np \n",
    "\n",
    "directory_cause = '../data/SenfSeidl_maps/fire_wind_barkbeetle_france.tif'\n",
    "#sometimes CRS is missing... Senf & Seidl use EPSG:3035 for the attribution. \n",
    "with rasterio.open(directory_cause, 'r+') as rds:\n",
    "    rds.crs = CRS.from_epsg(3035)\n",
    "\n",
    "src_cause = rasterio.open(directory_cause)\n",
    "data_cause = src_cause.read(1)\n",
    "print('attribution :')\n",
    "print('-crs :', src_cause.crs)\n",
    "print('-dtype :', src_cause.dtypes)\n",
    "print('-nodata:', src_cause.nodata)\n",
    "print('-values:', np.unique(data_cause))\n",
    "\n",
    "directory_year = '../data/SenfSeidl_maps/france/disturbance_year_1986-2020_france.tif'\n",
    "src_year = rasterio.open(directory_year)\n",
    "data_year = src_year.read(1)\n",
    "print('year :')\n",
    "print('-crs :', src_year.crs)\n",
    "print('-dtype :', src_year.dtypes)\n",
    "print('-nodata:', src_year.nodata)\n",
    "print('-values:', np.unique(data_year))"
   ]
  },
  {
   "cell_type": "code",
   "execution_count": 2,
   "metadata": {},
   "outputs": [],
   "source": [
    "#Converting to GeoDataFrame (~8min)\n",
    "\n",
    "from rasterio.features import shapes\n",
    "from shapely.geometry import shape\n",
    "\n",
    "#masking nodata\n",
    "import numpy.ma as ma \n",
    "\n",
    "mask = (data_year == 65535) \n",
    "data_year_ma = ma.masked_array(data_year, mask=mask)\n",
    "\n",
    "mask = (data_cause < 0)\n",
    "data_cause_ma = ma.masked_array(data_cause, mask=mask)\n",
    "\n",
    "#map with year of disturbance + conversion to CRS EPSG:3035\n",
    "shape_gen = ((shape(s), int(v)) for s,v in  shapes(data_year_ma, transform=src_year.transform))\n",
    "gdf1 = gpd.GeoDataFrame(dict(zip([\"geometry\", \"year\"], zip(*shape_gen))), crs=src_year.crs).to_crs(src_cause.crs)\n",
    "\n",
    "#map with cause of disturbance \n",
    "shape_gen = ((shape(s), int(v)) for s,v in  shapes(data_cause_ma, transform=src_cause.transform))\n",
    "gdf2 = gpd.GeoDataFrame(dict(zip([\"geometry\", \"year\"], zip(*shape_gen))), crs=src_cause.crs)"
   ]
  },
  {
   "cell_type": "code",
   "execution_count": 7,
   "metadata": {},
   "outputs": [
    {
     "name": "stderr",
     "output_type": "stream",
     "text": [
      "/var/folders/1c/h8t9_vd53gsgz_wm9kswm8wm0000gp/T/ipykernel_1127/3739704228.py:8: FutureWarning: The `op` parameter is deprecated and will be removed in a future release. Please use the `predicate` parameter instead.\n",
      "  dgdf = dgpd.sjoin(dgdf1, dgdf2, how='inner', op='intersects').compute()\n"
     ]
    },
    {
     "data": {
      "text/html": [
       "<div>\n",
       "<style scoped>\n",
       "    .dataframe tbody tr th:only-of-type {\n",
       "        vertical-align: middle;\n",
       "    }\n",
       "\n",
       "    .dataframe tbody tr th {\n",
       "        vertical-align: top;\n",
       "    }\n",
       "\n",
       "    .dataframe thead th {\n",
       "        text-align: right;\n",
       "    }\n",
       "</style>\n",
       "<table border=\"1\" class=\"dataframe\">\n",
       "  <thead>\n",
       "    <tr style=\"text-align: right;\">\n",
       "      <th></th>\n",
       "      <th>index</th>\n",
       "      <th>geometry</th>\n",
       "      <th>year</th>\n",
       "      <th>index_right</th>\n",
       "      <th>cause</th>\n",
       "    </tr>\n",
       "  </thead>\n",
       "  <tbody>\n",
       "    <tr>\n",
       "      <th>0</th>\n",
       "      <td>0</td>\n",
       "      <td>POLYGON ((3798746.638 3134740.558, 3798746.638...</td>\n",
       "      <td>2018</td>\n",
       "      <td>0</td>\n",
       "      <td>3</td>\n",
       "    </tr>\n",
       "    <tr>\n",
       "      <th>1</th>\n",
       "      <td>1</td>\n",
       "      <td>POLYGON ((3798836.638 3134740.558, 3798836.638...</td>\n",
       "      <td>2018</td>\n",
       "      <td>1</td>\n",
       "      <td>3</td>\n",
       "    </tr>\n",
       "    <tr>\n",
       "      <th>2</th>\n",
       "      <td>2</td>\n",
       "      <td>POLYGON ((3799226.638 3134680.558, 3799226.638...</td>\n",
       "      <td>2004</td>\n",
       "      <td>2</td>\n",
       "      <td>3</td>\n",
       "    </tr>\n",
       "    <tr>\n",
       "      <th>3</th>\n",
       "      <td>3</td>\n",
       "      <td>POLYGON ((3798776.638 3134620.558, 3798776.638...</td>\n",
       "      <td>2004</td>\n",
       "      <td>3</td>\n",
       "      <td>1</td>\n",
       "    </tr>\n",
       "    <tr>\n",
       "      <th>4</th>\n",
       "      <td>4</td>\n",
       "      <td>POLYGON ((3798866.638 3134590.558, 3798896.638...</td>\n",
       "      <td>2004</td>\n",
       "      <td>3</td>\n",
       "      <td>1</td>\n",
       "    </tr>\n",
       "  </tbody>\n",
       "</table>\n",
       "</div>"
      ],
      "text/plain": [
       "   index                                           geometry  year  \\\n",
       "0      0  POLYGON ((3798746.638 3134740.558, 3798746.638...  2018   \n",
       "1      1  POLYGON ((3798836.638 3134740.558, 3798836.638...  2018   \n",
       "2      2  POLYGON ((3799226.638 3134680.558, 3799226.638...  2004   \n",
       "3      3  POLYGON ((3798776.638 3134620.558, 3798776.638...  2004   \n",
       "4      4  POLYGON ((3798866.638 3134590.558, 3798896.638...  2004   \n",
       "\n",
       "   index_right  cause  \n",
       "0            0      3  \n",
       "1            1      3  \n",
       "2            2      3  \n",
       "3            3      1  \n",
       "4            3      1  "
      ]
     },
     "execution_count": 7,
     "metadata": {},
     "output_type": "execute_result"
    }
   ],
   "source": [
    "#Joining both GeoDataFrames (~2min)\n",
    "\n",
    "import dask_geopandas as dgpd \n",
    "\n",
    "dgdf1 = dgpd.from_geopandas(gdf1, npartitions=10)\n",
    "dgdf2 = dgpd.from_geopandas(gdf2, npartitions=10)\n",
    "\n",
    "dgdf = dgpd.sjoin(dgdf1, dgdf2, how='inner', op='intersects').compute()\n",
    "dgdf.rename(columns={'year_left':'year', 'year_right':'cause'}, inplace=True)\n",
    "dgdf.reset_index(inplace=True)\n",
    "dgdf.head()\n"
   ]
  },
  {
   "cell_type": "code",
   "execution_count": 27,
   "metadata": {},
   "outputs": [],
   "source": [
    "gdf = dgdf.compute()\n",
    "gdf.to_parquet('../data/SenfSeidl_maps/dgdf.parquet')"
   ]
  },
  {
   "cell_type": "code",
   "execution_count": 8,
   "metadata": {},
   "outputs": [],
   "source": [
    "#Cleaning the Joined GeoDataFrame (~130min)\n",
    "\n",
    "#Defining a variable for grouping rows with the same cause and year. Because we want to group polygons nearby with the same cause and year.\n",
    "def get_similar(row):\n",
    "    cells = [str(row.cause), str(row.year)]\n",
    "    return '-'.join(cells)\n",
    "\n",
    "dgdf['similar'] = dgdf.apply(get_similar, axis=1)\n",
    "\n",
    "# Grouping by similar \n",
    "dgdf = dgpd.from_geopandas(dgdf, npartitions=10) #not sure if we need to use Dask here\n",
    "gdf_grouped = dgdf.dissolve(by='similar', aggfunc='mean').compute()\n"
   ]
  },
  {
   "cell_type": "code",
   "execution_count": 12,
   "metadata": {},
   "outputs": [],
   "source": [
    "#normalize the polygon -> This method orders the coordinates, rings of a polygon and parts of multi geometries consistently. (critical for next step)\n",
    "gdf_grouped.geometry = gdf_grouped.geometry.normalize()"
   ]
  },
  {
   "cell_type": "code",
   "execution_count": 13,
   "metadata": {},
   "outputs": [
    {
     "name": "stderr",
     "output_type": "stream",
     "text": [
      "/Users/arthurcalvi/Venv/DiAtDaJo/lib/python3.9/site-packages/geopandas/geoseries.py:645: FutureWarning: the convert_dtype parameter is deprecated and will be removed in a future version.  Do ``ser.astype(object).apply()`` instead if you want ``convert_dtype=False``.\n",
      "  result = super().apply(func, convert_dtype=convert_dtype, args=args, **kwargs)\n"
     ]
    }
   ],
   "source": [
    "#union the polygons -> Transform list of polygon into a MultiPolygons \n",
    "#~ 70min\n",
    "from shapely.ops import unary_union\n",
    "gdf_grouped.geometry = gdf_grouped.geometry.apply(unary_union)"
   ]
  },
  {
   "cell_type": "code",
   "execution_count": 14,
   "metadata": {},
   "outputs": [
    {
     "name": "stderr",
     "output_type": "stream",
     "text": [
      "/var/folders/1c/h8t9_vd53gsgz_wm9kswm8wm0000gp/T/ipykernel_1127/1857334894.py:1: FutureWarning: Currently, index_parts defaults to True, but in the future, it will default to False to be consistent with Pandas. Use `index_parts=True` to keep the current behavior and True/False to silence the warning.\n",
      "  gdf_exploded = gdf_grouped.explode()\n"
     ]
    },
    {
     "name": "stdout",
     "output_type": "stream",
     "text": [
      "After explode, shape :  (5525515, 5)\n",
      "                  index    year    index_right  cause  \\\n",
      "similar                                                 \n",
      "3-2018  0  1.913211e+06  2018.0  860217.130041    3.0   \n",
      "        1  1.913211e+06  2018.0  860217.130041    3.0   \n",
      "        2  1.913211e+06  2018.0  860217.130041    3.0   \n",
      "        3  1.913211e+06  2018.0  860217.130041    3.0   \n",
      "        4  1.913211e+06  2018.0  860217.130041    3.0   \n",
      "\n",
      "                                                    geometry  \n",
      "similar                                                       \n",
      "3-2018  0  POLYGON ((3327146.638 2782150.558, 3327146.638...  \n",
      "        1  POLYGON ((3327116.638 2782210.558, 3327146.638...  \n",
      "        2  POLYGON ((3326576.638 2782600.558, 3326666.638...  \n",
      "        3  POLYGON ((3345626.638 2807350.558, 3345626.638...  \n",
      "        4  POLYGON ((3345596.638 2807410.558, 3345626.638...  \n"
     ]
    }
   ],
   "source": [
    "gdf_exploded = gdf_grouped.explode()\n",
    "print('After explode, shape : ', gdf_exploded.shape)\n",
    "print(gdf_exploded.head())"
   ]
  },
  {
   "cell_type": "code",
   "execution_count": null,
   "metadata": {},
   "outputs": [],
   "source": [
    "#Cleaning the Joined GeoDataFrame (~130min)\n",
    "def get_similar(row):\n",
    "    cells = [str(row.cause), str(row.year)]\n",
    "    return '-'.join(cells)\n",
    "    \n",
    "dgdf['similar'] = dgdf.apply(get_similar, axis=1)\n",
    "\n",
    "#group by year and cause. \n",
    "# ~ 130min\n",
    "gdf_grouped = dgdf.dissolve(by='similar', aggfunc='mean')\n",
    "print('After regrouping by year and chause, shape : ', gdf_grouped.shape)\n",
    "print(gdf_grouped.head())\n",
    "\n",
    "#normalize the polygon -> This method orders the coordinates, rings of a polygon and parts of multi geometries consistently. (critical for next step)\n",
    "# ~ 1min\n",
    "gdf_grouped.geometry = gdf_grouped.geometry.normalize()\n",
    "\n",
    "#union the polygons -> Transform list of polygon into a MultiPolygons \n",
    "# ~ 1 hours \n",
    "from shapely.ops import unary_union\n",
    "gdf_grouped.geometry = gdf_grouped.geometry.apply(unary_union)\n",
    "\n",
    "#dissolve so we only keep the polygons that touch each other with the same cause and year \n",
    "gdf_exploded = gdf_grouped.explode()\n",
    "print('After explode, shape : ', gdf_exploded.shape)\n",
    "print(gdf_exploded.head())"
   ]
  },
  {
   "cell_type": "code",
   "execution_count": 15,
   "metadata": {},
   "outputs": [
    {
     "data": {
      "text/html": [
       "<div>\n",
       "<style scoped>\n",
       "    .dataframe tbody tr th:only-of-type {\n",
       "        vertical-align: middle;\n",
       "    }\n",
       "\n",
       "    .dataframe tbody tr th {\n",
       "        vertical-align: top;\n",
       "    }\n",
       "\n",
       "    .dataframe thead th {\n",
       "        text-align: right;\n",
       "    }\n",
       "</style>\n",
       "<table border=\"1\" class=\"dataframe\">\n",
       "  <thead>\n",
       "    <tr style=\"text-align: right;\">\n",
       "      <th></th>\n",
       "      <th>similar</th>\n",
       "      <th>level_1</th>\n",
       "      <th>index</th>\n",
       "      <th>year</th>\n",
       "      <th>index_right</th>\n",
       "      <th>cause</th>\n",
       "      <th>geometry</th>\n",
       "    </tr>\n",
       "  </thead>\n",
       "  <tbody>\n",
       "    <tr>\n",
       "      <th>0</th>\n",
       "      <td>3-2018</td>\n",
       "      <td>0</td>\n",
       "      <td>1.913211e+06</td>\n",
       "      <td>2018</td>\n",
       "      <td>8.602171e+05</td>\n",
       "      <td>3</td>\n",
       "      <td>POLYGON ((3327146.638 2782150.558, 3327146.638...</td>\n",
       "    </tr>\n",
       "    <tr>\n",
       "      <th>1</th>\n",
       "      <td>3-2018</td>\n",
       "      <td>1</td>\n",
       "      <td>1.913211e+06</td>\n",
       "      <td>2018</td>\n",
       "      <td>8.602171e+05</td>\n",
       "      <td>3</td>\n",
       "      <td>POLYGON ((3327116.638 2782210.558, 3327146.638...</td>\n",
       "    </tr>\n",
       "    <tr>\n",
       "      <th>2</th>\n",
       "      <td>3-2018</td>\n",
       "      <td>2</td>\n",
       "      <td>1.913211e+06</td>\n",
       "      <td>2018</td>\n",
       "      <td>8.602171e+05</td>\n",
       "      <td>3</td>\n",
       "      <td>POLYGON ((3326576.638 2782600.558, 3326666.638...</td>\n",
       "    </tr>\n",
       "    <tr>\n",
       "      <th>3</th>\n",
       "      <td>3-2018</td>\n",
       "      <td>3</td>\n",
       "      <td>1.913211e+06</td>\n",
       "      <td>2018</td>\n",
       "      <td>8.602171e+05</td>\n",
       "      <td>3</td>\n",
       "      <td>POLYGON ((3345626.638 2807350.558, 3345626.638...</td>\n",
       "    </tr>\n",
       "    <tr>\n",
       "      <th>4</th>\n",
       "      <td>3-2018</td>\n",
       "      <td>4</td>\n",
       "      <td>1.913211e+06</td>\n",
       "      <td>2018</td>\n",
       "      <td>8.602171e+05</td>\n",
       "      <td>3</td>\n",
       "      <td>POLYGON ((3345596.638 2807410.558, 3345626.638...</td>\n",
       "    </tr>\n",
       "    <tr>\n",
       "      <th>...</th>\n",
       "      <td>...</td>\n",
       "      <td>...</td>\n",
       "      <td>...</td>\n",
       "      <td>...</td>\n",
       "      <td>...</td>\n",
       "      <td>...</td>\n",
       "      <td>...</td>\n",
       "    </tr>\n",
       "    <tr>\n",
       "      <th>5525510</th>\n",
       "      <td>2-2007</td>\n",
       "      <td>1682</td>\n",
       "      <td>4.154713e+06</td>\n",
       "      <td>2007</td>\n",
       "      <td>1.712784e+06</td>\n",
       "      <td>2</td>\n",
       "      <td>POLYGON ((4270766.638 2201020.558, 4270736.638...</td>\n",
       "    </tr>\n",
       "    <tr>\n",
       "      <th>5525511</th>\n",
       "      <td>2-2007</td>\n",
       "      <td>1683</td>\n",
       "      <td>4.154713e+06</td>\n",
       "      <td>2007</td>\n",
       "      <td>1.712784e+06</td>\n",
       "      <td>2</td>\n",
       "      <td>POLYGON ((4270796.638 2201110.558, 4270856.638...</td>\n",
       "    </tr>\n",
       "    <tr>\n",
       "      <th>5525512</th>\n",
       "      <td>2-2007</td>\n",
       "      <td>1684</td>\n",
       "      <td>4.154713e+06</td>\n",
       "      <td>2007</td>\n",
       "      <td>1.712784e+06</td>\n",
       "      <td>2</td>\n",
       "      <td>POLYGON ((4269656.638 2201560.558, 4269686.638...</td>\n",
       "    </tr>\n",
       "    <tr>\n",
       "      <th>5525513</th>\n",
       "      <td>2-2007</td>\n",
       "      <td>1685</td>\n",
       "      <td>4.154713e+06</td>\n",
       "      <td>2007</td>\n",
       "      <td>1.712784e+06</td>\n",
       "      <td>2</td>\n",
       "      <td>POLYGON ((4269866.638 2201560.558, 4269896.638...</td>\n",
       "    </tr>\n",
       "    <tr>\n",
       "      <th>5525514</th>\n",
       "      <td>2-2007</td>\n",
       "      <td>1686</td>\n",
       "      <td>4.154713e+06</td>\n",
       "      <td>2007</td>\n",
       "      <td>1.712784e+06</td>\n",
       "      <td>2</td>\n",
       "      <td>POLYGON ((4269986.638 2201740.558, 4269956.638...</td>\n",
       "    </tr>\n",
       "  </tbody>\n",
       "</table>\n",
       "<p>5525515 rows × 7 columns</p>\n",
       "</div>"
      ],
      "text/plain": [
       "        similar  level_1         index  year   index_right  cause  \\\n",
       "0        3-2018        0  1.913211e+06  2018  8.602171e+05      3   \n",
       "1        3-2018        1  1.913211e+06  2018  8.602171e+05      3   \n",
       "2        3-2018        2  1.913211e+06  2018  8.602171e+05      3   \n",
       "3        3-2018        3  1.913211e+06  2018  8.602171e+05      3   \n",
       "4        3-2018        4  1.913211e+06  2018  8.602171e+05      3   \n",
       "...         ...      ...           ...   ...           ...    ...   \n",
       "5525510  2-2007     1682  4.154713e+06  2007  1.712784e+06      2   \n",
       "5525511  2-2007     1683  4.154713e+06  2007  1.712784e+06      2   \n",
       "5525512  2-2007     1684  4.154713e+06  2007  1.712784e+06      2   \n",
       "5525513  2-2007     1685  4.154713e+06  2007  1.712784e+06      2   \n",
       "5525514  2-2007     1686  4.154713e+06  2007  1.712784e+06      2   \n",
       "\n",
       "                                                  geometry  \n",
       "0        POLYGON ((3327146.638 2782150.558, 3327146.638...  \n",
       "1        POLYGON ((3327116.638 2782210.558, 3327146.638...  \n",
       "2        POLYGON ((3326576.638 2782600.558, 3326666.638...  \n",
       "3        POLYGON ((3345626.638 2807350.558, 3345626.638...  \n",
       "4        POLYGON ((3345596.638 2807410.558, 3345626.638...  \n",
       "...                                                    ...  \n",
       "5525510  POLYGON ((4270766.638 2201020.558, 4270736.638...  \n",
       "5525511  POLYGON ((4270796.638 2201110.558, 4270856.638...  \n",
       "5525512  POLYGON ((4269656.638 2201560.558, 4269686.638...  \n",
       "5525513  POLYGON ((4269866.638 2201560.558, 4269896.638...  \n",
       "5525514  POLYGON ((4269986.638 2201740.558, 4269956.638...  \n",
       "\n",
       "[5525515 rows x 7 columns]"
      ]
     },
     "execution_count": 15,
     "metadata": {},
     "output_type": "execute_result"
    }
   ],
   "source": [
    "gdf_exploded = gdf_exploded.reset_index()\n",
    "gdf_exploded['year'] = gdf_exploded.year.apply(lambda x:str(int(x)))\n",
    "gdf_exploded['cause'] = gdf_exploded.cause.astype(int)\n",
    "gdf_exploded"
   ]
  },
  {
   "cell_type": "code",
   "execution_count": 22,
   "metadata": {},
   "outputs": [],
   "source": [
    "import os\n",
    "\n",
    "os.makedirs('../data/processed_datasets', exist_ok=True)\n",
    "columns = ['year', 'cause', 'geometry']\n",
    "gdf_exploded[columns].to_crs('epsg:4326').to_parquet(f'../data/processed_datasets/SenfSeidl_joined_EPSG4326.parquet')"
   ]
  },
  {
   "cell_type": "markdown",
   "metadata": {},
   "source": [
    "## Checking map"
   ]
  },
  {
   "cell_type": "code",
   "execution_count": 1,
   "metadata": {},
   "outputs": [],
   "source": [
    "import geopandas as gpd\n",
    "processed = gpd.read_parquet('../data/processed_datasets/SenfSeidl_joined_EPSG4326.parquet')\n",
    "raw = gpd.read_parquet('../data/SenfSeidl_maps/dgdf.parquet').to_crs('epsg:4326')"
   ]
  },
  {
   "cell_type": "code",
   "execution_count": 11,
   "metadata": {},
   "outputs": [],
   "source": [
    "raw = gpd.read_parquet('../data/SenfSeidl_maps/dgdf.parquet').to_crs('epsg:4326')"
   ]
  },
  {
   "cell_type": "markdown",
   "metadata": {},
   "source": [
    "There are less raws in the processed version. Good"
   ]
  },
  {
   "cell_type": "code",
   "execution_count": 12,
   "metadata": {},
   "outputs": [
    {
     "name": "stdout",
     "output_type": "stream",
     "text": [
      "raw shape :  (7028300, 6)\n",
      "processed shape :  (5525515, 3)\n"
     ]
    }
   ],
   "source": [
    "#shape\n",
    "print('raw shape : ', raw.shape)\n",
    "print('processed shape : ', processed.shape)"
   ]
  },
  {
   "cell_type": "markdown",
   "metadata": {},
   "source": [
    "## Adding tree species"
   ]
  },
  {
   "cell_type": "code",
   "execution_count": 2,
   "metadata": {},
   "outputs": [],
   "source": [
    "import geopandas as gpd\n",
    "processed = gpd.read_parquet('../data/processed_datasets/SenfSeidl_joined_EPSG4326_FR.parquet')\n",
    "bdforet30 = gpd.read_parquet('../data/processed_datasets/BDFORET_EPSG2154_FR_simplified30.parquet').to_crs('epsg:4326')"
   ]
  },
  {
   "cell_type": "code",
   "execution_count": 7,
   "metadata": {},
   "outputs": [
    {
     "data": {
      "text/plain": [
       "1677"
      ]
     },
     "execution_count": 7,
     "metadata": {},
     "output_type": "execute_result"
    }
   ],
   "source": [
    "bdforet30.sindex.query(processed.geometry[0], predicate='intersects')[0]"
   ]
  },
  {
   "cell_type": "code",
   "execution_count": 17,
   "metadata": {},
   "outputs": [],
   "source": [
    "def get_tree_species(row):\n",
    "    index = bdforet30.sindex.query(row.geometry, predicate='intersects')\n",
    "    if len(index) > 0:\n",
    "        index = index[0]\n",
    "        return bdforet30.iloc[index][['tree_type', 'essence']]\n",
    "    else :\n",
    "        return None, None"
   ]
  },
  {
   "cell_type": "code",
   "execution_count": 18,
   "metadata": {},
   "outputs": [
    {
     "data": {
      "text/plain": [
       "tree_type    mixed\n",
       "essence      mixed\n",
       "Name: 1180032, dtype: object"
      ]
     },
     "execution_count": 18,
     "metadata": {},
     "output_type": "execute_result"
    }
   ],
   "source": [
    "get_tree_species(processed.iloc[900])"
   ]
  },
  {
   "cell_type": "code",
   "execution_count": 26,
   "metadata": {},
   "outputs": [
    {
     "data": {
      "text/html": [
       "<div>\n",
       "<style scoped>\n",
       "    .dataframe tbody tr th:only-of-type {\n",
       "        vertical-align: middle;\n",
       "    }\n",
       "\n",
       "    .dataframe tbody tr th {\n",
       "        vertical-align: top;\n",
       "    }\n",
       "\n",
       "    .dataframe thead th {\n",
       "        text-align: right;\n",
       "    }\n",
       "</style>\n",
       "<table border=\"1\" class=\"dataframe\">\n",
       "  <thead>\n",
       "    <tr style=\"text-align: right;\">\n",
       "      <th></th>\n",
       "      <th>tree_type</th>\n",
       "      <th>essence</th>\n",
       "    </tr>\n",
       "  </thead>\n",
       "  <tbody>\n",
       "    <tr>\n",
       "      <th>0</th>\n",
       "      <td>None</td>\n",
       "      <td>nc</td>\n",
       "    </tr>\n",
       "    <tr>\n",
       "      <th>1</th>\n",
       "      <td>None</td>\n",
       "      <td>nc</td>\n",
       "    </tr>\n",
       "    <tr>\n",
       "      <th>2</th>\n",
       "      <td>None</td>\n",
       "      <td>nc</td>\n",
       "    </tr>\n",
       "    <tr>\n",
       "      <th>3</th>\n",
       "      <td>mixed</td>\n",
       "      <td>mixed</td>\n",
       "    </tr>\n",
       "    <tr>\n",
       "      <th>4</th>\n",
       "      <td>mixed</td>\n",
       "      <td>mixed</td>\n",
       "    </tr>\n",
       "    <tr>\n",
       "      <th>...</th>\n",
       "      <td>...</td>\n",
       "      <td>...</td>\n",
       "    </tr>\n",
       "    <tr>\n",
       "      <th>99995</th>\n",
       "      <td>broadleaf</td>\n",
       "      <td>broadleaf</td>\n",
       "    </tr>\n",
       "    <tr>\n",
       "      <th>99996</th>\n",
       "      <td>broadleaf</td>\n",
       "      <td>broadleaf</td>\n",
       "    </tr>\n",
       "    <tr>\n",
       "      <th>99997</th>\n",
       "      <td>broadleaf</td>\n",
       "      <td>broadleaf</td>\n",
       "    </tr>\n",
       "    <tr>\n",
       "      <th>99998</th>\n",
       "      <td>broadleaf</td>\n",
       "      <td>broadleaf</td>\n",
       "    </tr>\n",
       "    <tr>\n",
       "      <th>99999</th>\n",
       "      <td>conifer</td>\n",
       "      <td>maritime pine</td>\n",
       "    </tr>\n",
       "  </tbody>\n",
       "</table>\n",
       "<p>100000 rows × 2 columns</p>\n",
       "</div>"
      ],
      "text/plain": [
       "       tree_type        essence\n",
       "0           None             nc\n",
       "1           None             nc\n",
       "2           None             nc\n",
       "3          mixed          mixed\n",
       "4          mixed          mixed\n",
       "...          ...            ...\n",
       "99995  broadleaf      broadleaf\n",
       "99996  broadleaf      broadleaf\n",
       "99997  broadleaf      broadleaf\n",
       "99998  broadleaf      broadleaf\n",
       "99999    conifer  maritime pine\n",
       "\n",
       "[100000 rows x 2 columns]"
      ]
     },
     "execution_count": 26,
     "metadata": {},
     "output_type": "execute_result"
    }
   ],
   "source": [
    "#100000-> 1min \n",
    "# 5.5M -> 55min\n",
    "processed.iloc[:100000].apply(get_tree_species, axis=1, result_type='expand')"
   ]
  },
  {
   "cell_type": "code",
   "execution_count": null,
   "metadata": {},
   "outputs": [],
   "source": []
  }
 ],
 "metadata": {
  "kernelspec": {
   "display_name": "DiAtDaJo",
   "language": "python",
   "name": "python3"
  },
  "language_info": {
   "codemirror_mode": {
    "name": "ipython",
    "version": 3
   },
   "file_extension": ".py",
   "mimetype": "text/x-python",
   "name": "python",
   "nbconvert_exporter": "python",
   "pygments_lexer": "ipython3",
   "version": "3.9.6"
  },
  "orig_nbformat": 4
 },
 "nbformat": 4,
 "nbformat_minor": 2
}
