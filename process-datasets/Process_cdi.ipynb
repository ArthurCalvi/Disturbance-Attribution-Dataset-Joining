{
 "cells": [
  {
   "cell_type": "markdown",
   "metadata": {},
   "source": [
    "# Combined Drought Indicator\n",
    "\n",
    "downlaod link : \n",
    "-  https://edo.jrc.ec.europa.eu/gdo/php/index.php?id=2112 \n",
    "\n"
   ]
  },
  {
   "cell_type": "code",
   "execution_count": 1,
   "metadata": {},
   "outputs": [],
   "source": [
    "directory = '/Users/arthurcalvi/Data/Disturbances_maps/Copernicus_CDI'\n",
    "out_directory = '/Users/arthurcalvi/Data/Disturbances_maps/Copernicus_CDI/CDI_2012_2023'\n",
    "\n",
    "#put all of the .tif files inside subfolders into a single folder in out directory \n",
    "import os\n",
    "os.makedirs(out_directory, exist_ok=True)\n",
    "for root, dirs, files in os.walk(directory):\n",
    "    for file in files:\n",
    "        if file.endswith('.tif'):\n",
    "            os.rename(os.path.join(root, file), os.path.join(out_directory, file))\n",
    "\n",
    "\n"
   ]
  },
  {
   "cell_type": "code",
   "execution_count": 6,
   "metadata": {},
   "outputs": [],
   "source": [
    "#crop raster to the extent of france \n",
    "from shapely.geometry import Polygon\n",
    "\n",
    "extent_france_epsg4326 = [-5.493164,41.211722,9.975586,51.399206]\n",
    "polygon = Polygon([(-5.493164,41.211722),(-5.493164,51.399206),(9.975586,51.399206),(9.975586,41.211722)])\n",
    "#transform to epsg 3035 with rasterio.warp.transform_geom\n",
    "from rasterio.warp import transform_geom\n",
    "\n",
    "polygon_3035 = transform_geom('EPSG:4326', 'EPSG:3035', polygon.__geo_interface__)\n",
    "\n",
    "#open every raster in out_directory with a window and crop it to the extent of france, then save them to a new directory\n",
    "import rasterio\n",
    "import rasterio.mask\n",
    "\n",
    "new_directory = '/Users/arthurcalvi/Data/Disturbances_maps/Copernicus_CDI/CDI_2012_2023/france_extent'\n",
    "os.makedirs(new_directory, exist_ok=True)\n",
    "\n",
    "for root, dirs, files in os.walk(out_directory):\n",
    "    for file in files:\n",
    "        if file.endswith('.tif'):\n",
    "            with rasterio.open(os.path.join(root, file)) as src:\n",
    "                assert src.crs == rasterio.crs.CRS.from_epsg(3035)\n",
    "                out_image, out_transform = rasterio.mask.mask(src, [polygon_3035], crop=True)\n",
    "                out_meta = src.meta\n",
    "                out_meta.update({\"driver\": \"GTiff\",\n",
    "                                 \"height\": out_image.shape[1],\n",
    "                                 \"width\": out_image.shape[2],\n",
    "                                 \"transform\": out_transform})\n",
    "                with rasterio.open(os.path.join(new_directory, file), \"w\", **out_meta) as dest:\n",
    "                    dest.write(out_image)"
   ]
  },
  {
   "cell_type": "code",
   "execution_count": 4,
   "metadata": {},
   "outputs": [
    {
     "name": "stderr",
     "output_type": "stream",
     "text": [
      "100%|██████████| 424/424 [10:31<00:00,  1.49s/it]\n"
     ]
    }
   ],
   "source": [
    "#convert each france extent raster to geodataframe and save it to a new directory\n",
    "#only keep the polygons with a value of 3\n",
    "import geopandas as gpd\n",
    "import rasterio\n",
    "import rasterio.features\n",
    "from shapely.geometry import shape\n",
    "from tqdm import tqdm\n",
    "from datetime import datetime\n",
    "import os\n",
    "fr = gpd.read_parquet('../data/processed_datasets/france_EPSG2154.parquet')\n",
    "new_directory = '/Users/arthurcalvi/Data/Disturbances_maps/Copernicus_CDI/CDI_2012_2023/france_extent'\n",
    "list_gdf = []\n",
    "for root, dirs, files in os.walk(new_directory):\n",
    "    for file in tqdm(files):\n",
    "        if file.endswith('.tif'):\n",
    "            date = file.split('_')[3]\n",
    "            date = datetime.strptime(date, '%Y%m%d')\n",
    "            with rasterio.open(os.path.join(root, file)) as src:\n",
    "                image = src.read(1)\n",
    "                shapes = rasterio.features.shapes(image, transform=src.transform)\n",
    "                geoms = [shape(s) for s, val in shapes if val == 4]\n",
    "                gdf = gpd.GeoDataFrame({'geometry':geoms, 'date': [date] * len(geoms)}, geometry='geometry', crs=src.crs)\n",
    "                gdf = gdf.to_crs('epsg:2154').clip(fr.geometry)\n",
    "                list_gdf.append(gdf)\n",
    "                "
   ]
  },
  {
   "cell_type": "code",
   "execution_count": 35,
   "metadata": {},
   "outputs": [
    {
     "name": "stderr",
     "output_type": "stream",
     "text": [
      "  0%|          | 0/424 [00:00<?, ?it/s]"
     ]
    },
    {
     "name": "stderr",
     "output_type": "stream",
     "text": [
      "100%|██████████| 424/424 [00:02<00:00, 149.84it/s]\n"
     ]
    }
   ],
   "source": [
    "#check if a drought alert (3) is followed by partial recovery (4)\n",
    "\n",
    "import rasterio\n",
    "from tqdm import tqdm\n",
    "from datetime import datetime\n",
    "import os\n",
    "list_images =[]\n",
    "list_dates = []\n",
    "new_directory = '/Users/arthurcalvi/Data/Disturbances_maps/Copernicus_CDI/CDI_2012_2023/france_extent'\n",
    "for root, dirs, files in os.walk(new_directory):\n",
    "    for file in tqdm(sorted(files)):\n",
    "        if file.endswith('.tif'):\n",
    "            image = rasterio.open(os.path.join(root, file)).read(1)\n",
    "            list_images.append(image)\n",
    "            date = file.split('_')[3]\n",
    "            date = datetime.strptime(date, '%Y%m%d')\n",
    "            list_dates.append(date)"
   ]
  },
  {
   "cell_type": "code",
   "execution_count": 198,
   "metadata": {},
   "outputs": [
    {
     "name": "stdout",
     "output_type": "stream",
     "text": [
      "2013-07-01 00:00:00 2014-07-01 00:00:00\n",
      "2014-07-01 00:00:00 2015-07-01 00:00:00\n",
      "2015-07-01 00:00:00 2016-07-01 00:00:00\n",
      "2016-07-01 00:00:00 2017-07-01 00:00:00\n",
      "2017-07-01 00:00:00 2018-07-01 00:00:00\n",
      "2018-07-01 00:00:00 2019-07-01 00:00:00\n",
      "2019-07-01 00:00:00 2020-07-01 00:00:00\n",
      "2020-07-01 00:00:00 2021-07-01 00:00:00\n",
      "2021-07-01 00:00:00 2022-07-01 00:00:00\n",
      "2022-07-01 00:00:00 2023-07-01 00:00:00\n"
     ]
    }
   ],
   "source": [
    "# import numpy as np\n",
    "# def check_drought_recovery(images, steps=10*3*6):\n",
    "#     partial_recovery = (images[-1] == 4)\n",
    "\n",
    "#     droughts = np.zeros_like(images[-1], dtype=bool)\n",
    "#     for i in range(1, min(len(images), steps)):\n",
    "#         alerts = (images[-i] == 3) \n",
    "#         droughts = (alerts & partial_recovery) | droughts\n",
    "\n",
    "#     return droughts \n",
    "\n",
    "# droughts = check_drought_recovery(list_images[:10*3*6], steps=10*3*3)\n",
    "    \n",
    "import numpy as np\n",
    "\n",
    "def count_occurrences(images, value, min_count, start, end, strict=False):\n",
    "    \"\"\"\n",
    "    Count the occurrences of a specific value in the images within a specified range.\n",
    "    Returns a boolean mask where True indicates the value occurs at least min_count times.\n",
    "    \"\"\"\n",
    "    if strict :\n",
    "        count = sum((images[i] == value) for i in range(start, min(end, len(images))))\n",
    "    else :\n",
    "        count = sum((images[i] >= value) for i in range(start, min(end, len(images))))\n",
    "    return count >= min_count\n",
    "\n",
    "def check_drought_recovery(images, recovery_period=10, alert_period=10, period = 12):\n",
    "    \"\"\"\n",
    "    Check for pixels that meet the criteria of partial recovery during a period and \n",
    "    alert in a specified past period.\n",
    "    \"\"\"\n",
    "    # Constants for steps (assuming images are taken every 10 days)\n",
    "    steps_per_month = 3  # 10 days per frame, so 3 frames per month\n",
    "    period_steps = period * steps_per_month\n",
    "\n",
    "    # print(0)\n",
    "    # print(len(images) / 3 - 2 * recent_months) \n",
    "    # print(len(images) / 3 - recent_months)\n",
    "    # print(len(images) / 3) \n",
    "    # Count occurrences of partial recovery in the recent period\n",
    "    recovery_mask = count_occurrences(images, value=4, min_count=recovery_period, \n",
    "                                      start=len(images)-period_steps, end=len(images), strict=True)\n",
    "\n",
    "    # Count occurrences of alerts in the specified past period\n",
    "    alert_mask = count_occurrences(images, value=2, min_count=alert_period, \n",
    "                                   start=0, end=len(images) - period_steps)\n",
    "\n",
    "    return recovery_mask & alert_mask\n",
    "\n",
    "def generate_drought_maps(images, list_dates, recovery_period=5, alert_period=10, interval_months=12):\n",
    "    \"\"\"\n",
    "    Generate drought maps every specified number of months.\n",
    "    \"\"\"\n",
    "    drought_maps = []\n",
    "    steps_per_month = 3  # 10 days per frame, so 3 frames per month\n",
    "    interval_steps = interval_months * steps_per_month\n",
    "    list_start_end_date = []\n",
    "    for start in range(interval_steps + 6 * 3, len(images) - interval_steps, interval_steps):\n",
    "        \n",
    "        end = start + interval_steps\n",
    "        start_date = list_dates[start]\n",
    "        end_date = list_dates[end]\n",
    "        print(start_date, end_date)\n",
    "        drought_map = check_drought_recovery(images[start-interval_steps:end], recovery_period, alert_period, period=interval_months)\n",
    "        drought_maps.append(drought_map)\n",
    "        list_start_end_date.append((start_date, end_date))\n",
    "\n",
    "    return drought_maps,list_start_end_date\n",
    "\n",
    "# Example usage\n",
    "drought_maps, list_start_end_date = generate_drought_maps(list_images, list_dates, recovery_period=5, alert_period=10, interval_months=12)\n"
   ]
  },
  {
   "cell_type": "code",
   "execution_count": 199,
   "metadata": {},
   "outputs": [],
   "source": [
    "index = 0"
   ]
  },
  {
   "cell_type": "code",
   "execution_count": 209,
   "metadata": {},
   "outputs": [
    {
     "name": "stdout",
     "output_type": "stream",
     "text": [
      "(datetime.datetime(2022, 7, 1, 0, 0), datetime.datetime(2023, 7, 1, 0, 0))\n"
     ]
    },
    {
     "data": {
      "image/png": "[encoded data removed]",
      "text/plain": [
       "<Figure size 640x480 with 1 Axes>"
      ]
     },
     "metadata": {},
     "output_type": "display_data"
    }
   ],
   "source": [
    "import matplotlib.pyplot as plt\n",
    "plt.imshow(drought_maps[index])\n",
    "print(list_start_end_date[index])\n",
    "index+=1"
   ]
  },
  {
   "cell_type": "code",
   "execution_count": 188,
   "metadata": {},
   "outputs": [
    {
     "name": "stderr",
     "output_type": "stream",
     "text": [
      "0it [00:00, ?it/s]"
     ]
    },
    {
     "name": "stderr",
     "output_type": "stream",
     "text": [
      "10it [00:07,  1.26it/s]\n"
     ]
    }
   ],
   "source": [
    "import geopandas as gpd\n",
    "import rasterio\n",
    "import rasterio.features\n",
    "from shapely.geometry import shape\n",
    "from tqdm import tqdm\n",
    "from datetime import datetime\n",
    "new_directory = '/Users/arthurcalvi/Data/Disturbances_maps/Copernicus_CDI/CDI_2012_2023/france_extent'\n",
    "fr = gpd.read_parquet('../data/processed_datasets/france_EPSG2154.parquet')\n",
    "list_gdf = []\n",
    "src = rasterio.open(os.path.join(new_directory, files[0]))\n",
    "for drought, (start_date, end_date) in tqdm(zip(drought_maps, list_start_end_date)):\n",
    "    drought = drought.astype('uint8')\n",
    "    shapes = rasterio.features.shapes(drought, transform=src.transform)\n",
    "    geoms = [shape(s) for s, val in shapes if val == 1]\n",
    "    gdf = gpd.GeoDataFrame({'geometry':geoms, 'start_date': [start_date] * len(geoms), 'end_date' : [end_date] * len(geoms)}, geometry='geometry', crs=src.crs)\n",
    "    gdf = gdf.to_crs('epsg:2154').clip(fr.geometry)\n",
    "    list_gdf.append(gdf)"
   ]
  },
  {
   "cell_type": "code",
   "execution_count": 189,
   "metadata": {},
   "outputs": [],
   "source": [
    "import pandas as pd \n",
    "gdf = pd.concat(list_gdf)\n",
    "gdf = gpd.GeoDataFrame(gdf, geometry='geometry', crs='epsg:2154')"
   ]
  },
  {
   "cell_type": "code",
   "execution_count": 191,
   "metadata": {},
   "outputs": [],
   "source": [
    "\n",
    "gdf.to_parquet('../data/processed_datasets/CDI_2012_2023.parquet')"
   ]
  },
  {
   "cell_type": "markdown",
   "metadata": {},
   "source": []
  },
  {
   "cell_type": "code",
   "execution_count": 35,
   "metadata": {},
   "outputs": [
    {
     "name": "stderr",
     "output_type": "stream",
     "text": [
      "/Users/arthurcalvi/Venv/DiAtDaJo/lib/python3.9/site-packages/geopandas/plotting.py:732: FutureWarning: is_categorical_dtype is deprecated and will be removed in a future version. Use isinstance(dtype, CategoricalDtype) instead\n",
      "  if pd.api.types.is_categorical_dtype(values.dtype):\n"
     ]
    },
    {
     "data": {
      "text/plain": [
       "<Axes: >"
      ]
     },
     "execution_count": 35,
     "metadata": {},
     "output_type": "execute_result"
    },
    {
     "data": {
      "image/png": "[encoded data removed]",
      "text/plain": [
       "<Figure size 640x480 with 2 Axes>"
      ]
     },
     "metadata": {},
     "output_type": "display_data"
    }
   ],
   "source": [
    "a = list_gdf[2]\n",
    "a['index'] = a.index\n",
    "a.plot(column='index', legend=True)"
   ]
  },
  {
   "cell_type": "markdown",
   "metadata": {},
   "source": [
    "## simpplified version"
   ]
  },
  {
   "cell_type": "code",
   "execution_count": 192,
   "metadata": {},
   "outputs": [],
   "source": [
    "import geopandas as gpd\n",
    "bdforet30 = gpd.read_parquet('../data/processed_datasets/BDFORET_EPSG2154_FR_simplified30.parquet')\n",
    "cdi = gpd.read_parquet('../data/processed_datasets/CDI_2012_2023.parquet')\n",
    "\n",
    "import pandas as pd\n",
    "import numpy as np\n",
    "\n",
    "def get_tree_species(row):\n",
    "    index = bdforet30.sindex.query(row.geometry, predicate='intersects')\n",
    "    if len(index) == 1:\n",
    "        index = index[0]\n",
    "        return bdforet30.iloc[index][['tree_type', 'essence']]\n",
    "    elif len(index) > 1:\n",
    "        sub = bdforet30.iloc[index]\n",
    "        if len(sub.tree_type.unique().tolist()) > 1:\n",
    "            tree_type = 'Mixed' \n",
    "        else : \n",
    "            tree_type = sub.tree_type.iloc[0] if type(sub.tree_type.iloc[0]) == str else np.nan \n",
    "        essence = \",\".join([x for x in sub.essence.unique().tolist() if type(x) == str])\n",
    "        #put in a pandas series with tree_type and essence as row names\n",
    "        return pd.Series([tree_type, essence], index=['tree_type', 'essence'])\n",
    "    else :\n",
    "        return None, None\n",
    "\n",
    "cdi[['tree_type', 'essence']] = cdi.apply(get_tree_species, axis=1, result_type='expand')"
   ]
  },
  {
   "cell_type": "code",
   "execution_count": 193,
   "metadata": {},
   "outputs": [],
   "source": [
    "cdi['class'] = 'drought'\n",
    "cdi.to_parquet('../data/processed_datasets/simplified_CDI_2012_2023_EPSG2154_FR.parquet')"
   ]
  },
  {
   "cell_type": "code",
   "execution_count": 2,
   "metadata": {},
   "outputs": [],
   "source": [
    "import geopandas as gpd \n",
    "cdi = gpd.read_parquet('../data/processed_datasets/simplified_CDI_2012_2023_EPSG2154_FR.parquet')\n",
    "# cdi['class'] = 'drought'\n",
    "# cdi.to_parquet('../data/processed_datasets/simplified_CDI_2012_2023_EPSG2154_FR.parquet')"
   ]
  },
  {
   "cell_type": "code",
   "execution_count": 3,
   "metadata": {},
   "outputs": [
    {
     "data": {
      "text/plain": [
       "(44583, 6)"
      ]
     },
     "execution_count": 3,
     "metadata": {},
     "output_type": "execute_result"
    }
   ],
   "source": [
    "cdi.shape"
   ]
  },
  {
   "cell_type": "code",
   "execution_count": 7,
   "metadata": {},
   "outputs": [],
   "source": [
    "cdi['start_date'] = cdi.date\n",
    "cdi['end_date'] = cdi.date\n",
    "cdi.drop(columns=['date'], inplace=True)\n",
    "cdi.to_parquet('../data/processed_datasets/simplified_CDI_2012_2023_EPSG2154_FR.parquet')"
   ]
  },
  {
   "cell_type": "code",
   "execution_count": 9,
   "metadata": {},
   "outputs": [
    {
     "name": "stderr",
     "output_type": "stream",
     "text": [
      "/Users/arthurcalvi/Venv/DiAtDaJo/lib/python3.9/site-packages/geopandas/geoseries.py:645: FutureWarning: the convert_dtype parameter is deprecated and will be removed in a future version.  Do ``ser.astype(object).apply()`` instead if you want ``convert_dtype=False``.\n",
      "  result = super().apply(func, convert_dtype=convert_dtype, args=args, **kwargs)\n"
     ]
    }
   ],
   "source": [
    "a = cdi['geometry'].apply(lambda x: x.is_valid)"
   ]
  }
 ],
 "metadata": {
  "kernelspec": {
   "display_name": "DiAtDaJo",
   "language": "python",
   "name": "python3"
  },
  "language_info": {
   "codemirror_mode": {
    "name": "ipython",
    "version": 3
   },
   "file_extension": ".py",
   "mimetype": "text/x-python",
   "name": "python",
   "nbconvert_exporter": "python",
   "pygments_lexer": "ipython3",
   "version": "3.9.6"
  }
 },
 "nbformat": 4,
 "nbformat_minor": 2
}
