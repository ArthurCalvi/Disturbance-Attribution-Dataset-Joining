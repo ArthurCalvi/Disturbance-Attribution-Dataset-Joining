{
 "cells": [
  {
   "cell_type": "markdown",
   "metadata": {},
   "source": [
    "# Process results"
   ]
  },
  {
   "cell_type": "code",
   "execution_count": 105,
   "metadata": {},
   "outputs": [
    {
     "name": "stdout",
     "output_type": "stream",
     "text": [
      "2017\n"
     ]
    },
    {
     "name": "stderr",
     "output_type": "stream",
     "text": [
      "76748it [09:40, 132.14it/s]\n"
     ]
    },
    {
     "name": "stdout",
     "output_type": "stream",
     "text": [
      "2018\n"
     ]
    },
    {
     "name": "stderr",
     "output_type": "stream",
     "text": [
      "73068it [08:02, 151.36it/s]\n"
     ]
    },
    {
     "name": "stdout",
     "output_type": "stream",
     "text": [
      "2019\n"
     ]
    },
    {
     "name": "stderr",
     "output_type": "stream",
     "text": [
      "82960it [09:18, 148.65it/s]\n"
     ]
    },
    {
     "name": "stdout",
     "output_type": "stream",
     "text": [
      "2020\n"
     ]
    },
    {
     "name": "stderr",
     "output_type": "stream",
     "text": [
      "87291it [08:49, 164.80it/s]\n"
     ]
    }
   ],
   "source": [
    "import geopandas as gpd\n",
    "import pandas as pd\n",
    "import os\n",
    "pd.options.mode.chained_assignment = None\n",
    "#remove warnings\n",
    "from tqdm import tqdm \n",
    "import numpy as np \n",
    "import warnings\n",
    "warnings.filterwarnings('ignore')\n",
    "\n",
    "\n",
    "for year in range(2017, 2021):\n",
    "    print(year)\n",
    "    granularity = 5\n",
    "    version = 0.3\n",
    "    directory = f'../data/results/cluster_{year}/'\n",
    "    disturbances = gpd.read_parquet(os.path.join(directory, f'disturbances_{year}_g{granularity}_v{version}.parquet'))\n",
    "    clusters = pd.read_parquet(os.path.join(directory, f'clusters_{year}_g{granularity}_v{version}.parquet'))\n",
    "\n",
    "    #filter clusters if there is an overlap between [Start_Date, End_Date] and [01/01/2018, 01/01/2019]\n",
    "    clusters_ = clusters[(clusters['Start_Date'] <= pd.Timestamp(year+1, 1, 1)) & (clusters['End_Date'] >= pd.Timestamp(year, 1, 1))]\n",
    "\n",
    "    #delete pandas warning\n",
    "\n",
    "    entity_type = ['dfde', 'cdi', 'bdiff']\n",
    "    geometry_list = []\n",
    "    for index, row in tqdm(clusters_.iterrows()):\n",
    "        group = disturbances.iloc[row['Indexes']] \n",
    "        group['entity_type'] = group['dataset'].apply(lambda x: x in entity_type)\n",
    "        m = group.shape[0]\n",
    "        n = m - group['entity_type'].sum()\n",
    "\n",
    "        if n >= 1:\n",
    "            group = group[group['entity_type'] == False]\n",
    "            m = group.shape[0]\n",
    "            \n",
    "        if m == 1:\n",
    "            geometry_list.append(group.iloc[0]['geometry'])\n",
    "        else:\n",
    "            geometry_list.append(group.geometry.unary_union.convex_hull)\n",
    "\n",
    "    clusters_['geometry'] = geometry_list\n",
    "    clusters_ = gpd.GeoDataFrame(clusters_, geometry='geometry', crs=disturbances.crs)\n",
    "    clusters_.to_parquet(os.path.join(directory, f'clusters_filtered_{year}_g{granularity}_v{version}_polygons.parquet'))"
   ]
  },
  {
   "cell_type": "code",
   "execution_count": 90,
   "metadata": {},
   "outputs": [
    {
     "name": "stderr",
     "output_type": "stream",
     "text": [
      "73068it [07:24, 164.39it/s]\n"
     ]
    }
   ],
   "source": [
    "#delete pandas warning\n",
    "pd.options.mode.chained_assignment = None\n",
    "#remove warnings\n",
    "from tqdm import tqdm \n",
    "import numpy as np \n",
    "import warnings\n",
    "warnings.filterwarnings('ignore')\n",
    "\n",
    "entity_type = ['dfde', 'cdi', 'bdiff']\n",
    "geometry_list = []\n",
    "for index, row in tqdm(clusters_.iterrows():\n",
    "    group = disturbances.iloc[row['Indexes']] \n",
    "    group['entity_type'] = group['dataset'].apply(lambda x: x in entity_type)\n",
    "    m = group.shape[0]\n",
    "    n = m - group['entity_type'].sum()\n",
    "\n",
    "    if n >= 1:\n",
    "        group = group[group['entity_type'] == False]\n",
    "        m = group.shape[0]\n",
    "        \n",
    "    if m == 1:\n",
    "        geometry_list.append(group.iloc[0]['geometry'].centroid)\n",
    "    else:\n",
    "        geometry_list.append(group.geometry.centroid.unary_union)\n",
    "\n",
    "clusters_['geometry'] = geometry_list\n",
    "clusters_ = gpd.GeoDataFrame(clusters_, geometry='geometry', crs=disturbances.crs)"
   ]
  },
  {
   "cell_type": "code",
   "execution_count": 103,
   "metadata": {},
   "outputs": [],
   "source": [
    "clusters_.to_parquet(os.path.join(directory, f'clusters_filtered_{year}_g{granularity}_v{version}_centroid.parquet'))"
   ]
  },
  {
   "cell_type": "code",
   "execution_count": 82,
   "metadata": {},
   "outputs": [],
   "source": [
    "index = 0"
   ]
  },
  {
   "cell_type": "code",
   "execution_count": 88,
   "metadata": {},
   "outputs": [
    {
     "data": {
      "text/plain": [
       "{'type': 'Point', 'coordinates': (356787.519865879, 6313459.408387203)}"
      ]
     },
     "execution_count": 88,
     "metadata": {},
     "output_type": "execute_result"
    }
   ],
   "source": [
    "geometry_list[index].__geo_interface__"
   ]
  },
  {
   "cell_type": "code",
   "execution_count": 86,
   "metadata": {},
   "outputs": [
    {
     "data": {
      "image/svg+xml": [
       "<svg xmlns=\"http://www.w3.org/2000/svg\" xmlns:xlink=\"http://www.w3.org/1999/xlink\" width=\"100.0\" height=\"100.0\" viewBox=\"356786.519865879 6313458.408387203 2.0 2.0\" preserveAspectRatio=\"xMinYMin meet\"><g transform=\"matrix(1,0,0,-1,0,12626918.816774406)\"><circle cx=\"356787.519865879\" cy=\"6313459.408387203\" r=\"0.06\" stroke=\"#555555\" stroke-width=\"0.02\" fill=\"#66cc99\" opacity=\"0.6\" /></g></svg>"
      ],
      "text/plain": [
       "<POINT (356787.52 6313459.408)>"
      ]
     },
     "execution_count": 86,
     "metadata": {},
     "output_type": "execute_result"
    }
   ],
   "source": [
    "index += 1\n",
    "geometry_list[index]"
   ]
  }
 ],
 "metadata": {
  "kernelspec": {
   "display_name": "DiAtDaJo",
   "language": "python",
   "name": "python3"
  },
  "language_info": {
   "codemirror_mode": {
    "name": "ipython",
    "version": 3
   },
   "file_extension": ".py",
   "mimetype": "text/x-python",
   "name": "python",
   "nbconvert_exporter": "python",
   "pygments_lexer": "ipython3",
   "version": "3.9.6"
  }
 },
 "nbformat": 4,
 "nbformat_minor": 2
}
