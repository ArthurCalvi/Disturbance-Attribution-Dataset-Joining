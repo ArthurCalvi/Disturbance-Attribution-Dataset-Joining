{
 "cells": [
  {
   "cell_type": "markdown",
   "metadata": {},
   "source": [
    "Download links:\n",
    "- BDIFF : https://bdiff.agriculture.gouv.fr\n",
    "\n",
    "# Method :\n",
    "\n",
    "1. GeoParsing using https://github.com/ArthurCalvi/GeoParsing \n",
    "2. Joining with BDFORET for retrieving tree species"
   ]
  },
  {
   "cell_type": "code",
   "execution_count": 1,
   "metadata": {},
   "outputs": [],
   "source": [
    "import geopandas as gpd\n",
    "epsg = 'epsg:2154'\n",
    "gdf = gpd.read_parquet('../data/processed_datasets/bdiff_2012_2022_FR_EPSG4326.parquet').to_crs(epsg)"
   ]
  },
  {
   "cell_type": "code",
   "execution_count": 2,
   "metadata": {},
   "outputs": [],
   "source": [
    "bdforet30 = gpd.read_parquet('../data/processed_datasets/BDFORET_EPSG2154_FR_simplified30.parquet')"
   ]
  },
  {
   "cell_type": "code",
   "execution_count": 3,
   "metadata": {},
   "outputs": [],
   "source": [
    "import pandas as pd\n",
    "import numpy as np\n",
    "\n",
    "def get_tree_species(row):\n",
    "\n",
    "    index = bdforet30.sindex.query(row.geometry, predicate='intersects')\n",
    "    if len(index) == 1:\n",
    "        index = index[0]\n",
    "        return bdforet30.iloc[index][['tree_type', 'essence']]\n",
    "    elif len(index) > 1:\n",
    "        sub = bdforet30.iloc[index]\n",
    "        if len(sub.tree_type.unique().tolist()) > 1:\n",
    "            tree_type = 'Mixed' \n",
    "        else : \n",
    "            tree_type = sub.tree_type.iloc[0] if type(sub.tree_type.iloc[0]) == str else np.nan \n",
    "        essence = \",\".join([x for x in sub.essence.unique().tolist() if type(x) == str and x not in ['nr', 'none']])\n",
    "        #put in a pandas series with tree_type and essence as row names\n",
    "        return pd.Series([tree_type, essence], index=['tree_type', 'essence'])\n",
    "    else :\n",
    "        return None, None\n",
    "\n"
   ]
  },
  {
   "cell_type": "code",
   "execution_count": 4,
   "metadata": {},
   "outputs": [],
   "source": [
    "gdf[['tree_type', 'essence']] = gdf.apply(get_tree_species, axis=1, result_type='expand')"
   ]
  },
  {
   "cell_type": "code",
   "execution_count": 15,
   "metadata": {},
   "outputs": [],
   "source": [
    "gdf.to_parquet('../data/processed_datasets/simplified_bdiff_2012_2022_FR_EPSG2154.parquet')"
   ]
  }
 ],
 "metadata": {
  "kernelspec": {
   "display_name": "DiAtDaJo",
   "language": "python",
   "name": "python3"
  },
  "language_info": {
   "codemirror_mode": {
    "name": "ipython",
    "version": 3
   },
   "file_extension": ".py",
   "mimetype": "text/x-python",
   "name": "python",
   "nbconvert_exporter": "python",
   "pygments_lexer": "ipython3",
   "version": "3.9.6"
  },
  "orig_nbformat": 4
 },
 "nbformat": 4,
 "nbformat_minor": 2
}
