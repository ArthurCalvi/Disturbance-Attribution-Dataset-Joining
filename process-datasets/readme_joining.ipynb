{
 "cells": [
  {
   "cell_type": "markdown",
   "metadata": {},
   "source": [
    "The joining algorithm **has to keep track of the geometry of each sources** : this will help validating the attribution manually if we can visualize where are the sources. "
   ]
  }
 ],
 "metadata": {
  "language_info": {
   "name": "python"
  },
  "orig_nbformat": 4
 },
 "nbformat": 4,
 "nbformat_minor": 2
}
